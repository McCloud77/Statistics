{
 "cells": [
  {
   "cell_type": "markdown",
   "metadata": {},
   "source": [
    "*Course: Multiple Linear Regression in Public Health  \n",
    "Presenter: Dr. John McGready  \n",
    "Institution: Johns Hopkins University*"
   ]
  },
  {
   "cell_type": "code",
   "execution_count": 1,
   "metadata": {},
   "outputs": [],
   "source": [
    "import pandas as pd\n",
    "import numpy as np\n",
    "import matplotlib.pyplot as plt\n",
    "%matplotlib inline\n",
    "import seaborn as sns\n",
    "sns.set_style(\"darkgrid\")"
   ]
  },
  {
   "cell_type": "markdown",
   "metadata": {},
   "source": [
    "Regression provides a general framework for the estimation and testing procedures. Multiple regression allows for the extension of the methods from linear regression to allow for multiple predictors of an outcome with a single method, and allow for the estimation of adjusted associations.  \n",
    "\n",
    "The basic structure of these multiple  regression models is a linear equation:  \n",
    "\n",
    "$y = \\beta_{0} + \\beta_{1}x_{1} + \\beta_{2}x_{2} + ... + \\beta_{p}x_{p}$  \n",
    "\n",
    "where $x_{1} ... x_{p}$ model the predictors of interest.  \n",
    "\n",
    "- For continuous outcomes, the left-hand side is the mean of the outcome 𝑦, $\\hat y$, and the regression type is linear regression.  \n",
    "- For binary outcomes, the left-hand side is the ln(odds) of the binary outcome, $ln \\frac{p}{1-p}$, where p is the probability that $y = 1$ (proportion of y values equal to 1) and the regression type is logistic regression.  \n",
    "- For time-to-event outcomes where the individual event and censoring times are not known, 𝑦𝑦is yes/no indicator of whether the event occurred in the common follow-up period; the left-hand side is ln(incidence rate), and the regression type is Poisson regression.  \n",
    "- For time-to-event outcomes where the individual event and censoring times are known, 𝑦𝑦is a composite outcome taking into account both the time and whether the event occurred;the left-hand side is ln(hazard rate), and the regression type is Cox regression.  \n",
    "- Each slope estimates the difference in the left-hand side for a one-unit difference in the corresponding $x$, adjusted (!) for the other variables in the model."
   ]
  },
  {
   "cell_type": "markdown",
   "metadata": {},
   "source": [
    "data: https://wwwn.cdc.gov/nchs/nhanes/Search/DataPage.aspx?Component=Examination&CycleBeginYear=2013 and https://wwwn.cdc.gov/nchs/nhanes/Search/DataPage.aspx?Component=Demographics&CycleBeginYear=2013"
   ]
  },
  {
   "cell_type": "code",
   "execution_count": 2,
   "metadata": {},
   "outputs": [],
   "source": [
    "import xport"
   ]
  },
  {
   "cell_type": "code",
   "execution_count": 3,
   "metadata": {},
   "outputs": [
    {
     "data": {
      "text/html": [
       "<div>\n",
       "<style scoped>\n",
       "    .dataframe tbody tr th:only-of-type {\n",
       "        vertical-align: middle;\n",
       "    }\n",
       "\n",
       "    .dataframe tbody tr th {\n",
       "        vertical-align: top;\n",
       "    }\n",
       "\n",
       "    .dataframe thead th {\n",
       "        text-align: right;\n",
       "    }\n",
       "</style>\n",
       "<table border=\"1\" class=\"dataframe\">\n",
       "  <thead>\n",
       "    <tr style=\"text-align: right;\">\n",
       "      <th></th>\n",
       "      <th>gender</th>\n",
       "      <th>age</th>\n",
       "      <th>race</th>\n",
       "      <th>weight</th>\n",
       "      <th>height</th>\n",
       "      <th>bmi</th>\n",
       "      <th>obese</th>\n",
       "      <th>bp_sys</th>\n",
       "      <th>bp_dia</th>\n",
       "    </tr>\n",
       "    <tr>\n",
       "      <th>seqn</th>\n",
       "      <th></th>\n",
       "      <th></th>\n",
       "      <th></th>\n",
       "      <th></th>\n",
       "      <th></th>\n",
       "      <th></th>\n",
       "      <th></th>\n",
       "      <th></th>\n",
       "      <th></th>\n",
       "    </tr>\n",
       "  </thead>\n",
       "  <tbody>\n",
       "    <tr>\n",
       "      <th>73557.0</th>\n",
       "      <td>male</td>\n",
       "      <td>69.0</td>\n",
       "      <td>black</td>\n",
       "      <td>78.3</td>\n",
       "      <td>171.3</td>\n",
       "      <td>26.7</td>\n",
       "      <td>0</td>\n",
       "      <td>122.0</td>\n",
       "      <td>72.0</td>\n",
       "    </tr>\n",
       "    <tr>\n",
       "      <th>73558.0</th>\n",
       "      <td>male</td>\n",
       "      <td>54.0</td>\n",
       "      <td>white</td>\n",
       "      <td>89.5</td>\n",
       "      <td>176.8</td>\n",
       "      <td>28.6</td>\n",
       "      <td>0</td>\n",
       "      <td>156.0</td>\n",
       "      <td>62.0</td>\n",
       "    </tr>\n",
       "    <tr>\n",
       "      <th>73559.0</th>\n",
       "      <td>male</td>\n",
       "      <td>72.0</td>\n",
       "      <td>white</td>\n",
       "      <td>88.9</td>\n",
       "      <td>175.3</td>\n",
       "      <td>28.9</td>\n",
       "      <td>0</td>\n",
       "      <td>140.0</td>\n",
       "      <td>90.0</td>\n",
       "    </tr>\n",
       "    <tr>\n",
       "      <th>73560.0</th>\n",
       "      <td>male</td>\n",
       "      <td>9.0</td>\n",
       "      <td>white</td>\n",
       "      <td>32.2</td>\n",
       "      <td>137.3</td>\n",
       "      <td>17.1</td>\n",
       "      <td>0</td>\n",
       "      <td>108.0</td>\n",
       "      <td>38.0</td>\n",
       "    </tr>\n",
       "    <tr>\n",
       "      <th>73561.0</th>\n",
       "      <td>female</td>\n",
       "      <td>73.0</td>\n",
       "      <td>white</td>\n",
       "      <td>52.0</td>\n",
       "      <td>162.4</td>\n",
       "      <td>19.7</td>\n",
       "      <td>0</td>\n",
       "      <td>136.0</td>\n",
       "      <td>86.0</td>\n",
       "    </tr>\n",
       "  </tbody>\n",
       "</table>\n",
       "</div>"
      ],
      "text/plain": [
       "         gender   age   race  weight  height   bmi  obese  bp_sys  bp_dia\n",
       "seqn                                                                     \n",
       "73557.0    male  69.0  black    78.3   171.3  26.7      0   122.0    72.0\n",
       "73558.0    male  54.0  white    89.5   176.8  28.6      0   156.0    62.0\n",
       "73559.0    male  72.0  white    88.9   175.3  28.9      0   140.0    90.0\n",
       "73560.0    male   9.0  white    32.2   137.3  17.1      0   108.0    38.0\n",
       "73561.0  female  73.0  white    52.0   162.4  19.7      0   136.0    86.0"
      ]
     },
     "execution_count": 3,
     "metadata": {},
     "output_type": "execute_result"
    }
   ],
   "source": [
    "lines = []\n",
    "with open('data/NHANES_Examination_Data_2013_2014.XPT', 'rb') as f:\n",
    "    for row in xport.Reader(f):\n",
    "        lines.append(row)\n",
    "columns = ['seqn', 'weight', 'height', 'bmi']\n",
    "df_nhanes_exam = pd.DataFrame(np.array(lines)[:, [0,2,8,10]], columns=columns)\n",
    "\n",
    "lines = []\n",
    "with open('data/NHANES_Demographic_Data_2013_2014.XPT', 'rb') as f:\n",
    "    for row in xport.Reader(f):\n",
    "        lines.append(row)      \n",
    "columns = ['seqn', 'gender', 'age', 'race']\n",
    "df_nhanes_demo = pd.DataFrame(np.array(lines)[:, [0,3,4,7]], columns=columns)\n",
    "\n",
    "lines = []\n",
    "with open('data/NHANES_Blood_Pressure_Data_2013_2014.XPT', 'rb') as f:\n",
    "    for row in xport.Reader(f):\n",
    "        lines.append(row)       \n",
    "columns = ['seqn', 'bp_sys', 'bp_dia']\n",
    "df_nhanes_bp = pd.DataFrame(np.array(lines)[:, [0,11,12]], columns=columns)\n",
    "\n",
    "df_nhanes = df_nhanes_demo.set_index('seqn').join(df_nhanes_exam.set_index('seqn'), on='seqn', how='inner')\n",
    "df_nhanes['gender'].replace({1:'male',\n",
    "                             2:'female'}, inplace=True)\n",
    "df_nhanes['race'].replace({1:'mexican_american',\n",
    "                           2:'other_hispanic',\n",
    "                           3:'white',\n",
    "                           4:'black',\n",
    "                           6:'asian',\n",
    "                           7:'other'}, inplace=True)\n",
    "df_nhanes['obese'] = df_nhanes['bmi'].apply(lambda x: 1 if x >= 30 else 0)\n",
    "\n",
    "df_nhanes = df_nhanes.join(df_nhanes_bp.set_index('seqn'), on='seqn', how='inner')\n",
    "df_nhanes.head()"
   ]
  },
  {
   "cell_type": "code",
   "execution_count": 4,
   "metadata": {},
   "outputs": [],
   "source": [
    "# save variables into separate series for plotting\n",
    "gender = df_nhanes['gender']\n",
    "race = df_nhanes['race']"
   ]
  },
  {
   "cell_type": "markdown",
   "metadata": {},
   "source": [
    "### 1. Multiple Linear Regression"
   ]
  },
  {
   "cell_type": "code",
   "execution_count": 5,
   "metadata": {},
   "outputs": [],
   "source": [
    "from sklearn.linear_model import LinearRegression\n",
    "from sklearn.metrics import r2_score"
   ]
  },
  {
   "cell_type": "code",
   "execution_count": 6,
   "metadata": {},
   "outputs": [],
   "source": [
    "# dictionaries for encoding\n",
    "dict_gender = {'male':0, 'female':1}\n",
    "dict_race = {'mexican_american':0,\n",
    "             'other_hispanic':1,\n",
    "             'white':2,\n",
    "             'black':3,\n",
    "             'asian':4,\n",
    "             'other':5}"
   ]
  },
  {
   "cell_type": "code",
   "execution_count": 7,
   "metadata": {},
   "outputs": [],
   "source": [
    "df_nhanes.dropna(axis=0, inplace=True)\n",
    "df_nhanes['gender'].replace(dict_gender, inplace=True)\n",
    "df_nhanes['race'].replace(dict_race, inplace=True)\n",
    "df_nhanes = pd.get_dummies(df_nhanes, columns=['race'], drop_first=True)"
   ]
  },
  {
   "cell_type": "code",
   "execution_count": 8,
   "metadata": {},
   "outputs": [],
   "source": [
    "def lin_reg(df, x, y):\n",
    "    \"\"\"\n",
    "    Performs linear regression using one or more features\n",
    "    Inputs:\n",
    "        df: dataframe\n",
    "        x:  list of columns, if column name ends with \"*\" indicates presence\n",
    "            of dummy columns for that feature\n",
    "        y:  outcome with coefficients, r-squared value and a list of column names\n",
    "    \"\"\"\n",
    "    df_copy = df.copy()\n",
    "    \n",
    "    cols = []\n",
    "    for col in x:\n",
    "        if col.endswith('*'):\n",
    "            for c in df_copy.columns:\n",
    "                if c.startswith(col[:-1]):\n",
    "                    cols.append(c)\n",
    "        else:\n",
    "            cols.append(col)\n",
    "    \n",
    "    lr = LinearRegression()\n",
    "    lr.fit(df_copy[cols], df_copy[y])\n",
    "    \n",
    "    y_pred = lr.predict(df_copy[cols])\n",
    "    r2 = r2_score(df_copy[y], y_pred)\n",
    "    \n",
    "    return {'intercept': lr.intercept_,\n",
    "            'coefficients':lr.coef_,\n",
    "            'r-squared':r2}, cols"
   ]
  },
  {
   "cell_type": "code",
   "execution_count": 9,
   "metadata": {},
   "outputs": [],
   "source": [
    "def print_regr_result(res, d=None):\n",
    "    \"\"\"\n",
    "    Prints the results of a regression analysis\n",
    "    Inputs:\n",
    "        res: the results returned from the regression analysis\n",
    "        d: a dictionary containing mappings used to encode categorical variables\n",
    "    \"\"\"\n",
    "    print('Intercept:', round(res[0]['intercept'],2))\n",
    "    \n",
    "    if d:\n",
    "        rev_dict = {v:k for k,v in d.items()}\n",
    "        print(\"Reference group:\", rev_dict[0])\n",
    "    \n",
    "        for i, col in enumerate(res[1]):\n",
    "            print(rev_dict[i+1], res[0]['coefficients'][i])\n",
    "\n",
    "        print('R-squared:', round(res[0]['r-squared'],2))\n",
    "    else:\n",
    "        print(\"Slope:\", res[0]['coefficients'])\n",
    "        print(\"R-squared:\", res[0]['r-squared'])\n",
    "        "
   ]
  },
  {
   "cell_type": "code",
   "execution_count": 10,
   "metadata": {},
   "outputs": [
    {
     "name": "stdout",
     "output_type": "stream",
     "text": [
      "Intercept: 119.81\n",
      "Reference group: male\n",
      "female -3.434146944833852\n",
      "R-squared: 0.01\n"
     ]
    }
   ],
   "source": [
    "col_lst = ['gender']\n",
    "target = 'bp_sys'\n",
    "res = lin_reg(df_nhanes, col_lst, target)\n",
    "print_regr_result(res, dict_gender)"
   ]
  },
  {
   "cell_type": "markdown",
   "metadata": {},
   "source": [
    "From the output above we can see that the unadjusted association of systolic blood pressure with sex is: $119.8 -3.4x_{1}$ where $x_{1} = 1$ for females and 0 for males. The R^{2} value is 0.01. As can be seen from the graph below, the difference in mean systolic blood pressure between males and females is indeed very small."
   ]
  },
  {
   "cell_type": "code",
   "execution_count": 11,
   "metadata": {},
   "outputs": [
    {
     "data": {
      "image/png": "[encoded data removed]",
      "text/plain": [
       "<Figure size 432x288 with 1 Axes>"
      ]
     },
     "metadata": {},
     "output_type": "display_data"
    }
   ],
   "source": [
    "sns.boxplot(x=gender, y=df_nhanes['bp_sys']);"
   ]
  },
  {
   "cell_type": "markdown",
   "metadata": {},
   "source": [
    "Next, let's try race:"
   ]
  },
  {
   "cell_type": "code",
   "execution_count": 12,
   "metadata": {},
   "outputs": [
    {
     "name": "stdout",
     "output_type": "stream",
     "text": [
      "Intercept: 115.64\n",
      "Reference group: mexican_american\n",
      "other_hispanic 1.2381052359572189\n",
      "white 3.337763154132308\n",
      "black 4.392816388258724\n",
      "asian 1.0122055383370945\n",
      "other -1.2178063223639561\n",
      "R-squared: 0.01\n"
     ]
    }
   ],
   "source": [
    "col_lst = ['race*']\n",
    "target = 'bp_sys'\n",
    "res = lin_reg(df_nhanes, col_lst, target)\n",
    "print_regr_result(res, dict_race)"
   ]
  },
  {
   "cell_type": "markdown",
   "metadata": {},
   "source": [
    "The unadjusted association with ethnicity is: $115.6 + 1.2x_{1} +3.3x_{2} +4.4x_{3} + 1.0x_{4} -1.2x_{5}$ where $x_{1} = 1$ for other_hispanic, $x_{2} = 1$ for white, etc. with an $R^{2}$ of 0.01. "
   ]
  },
  {
   "cell_type": "code",
   "execution_count": 13,
   "metadata": {},
   "outputs": [
    {
     "data": {
      "image/png": "[encoded data removed]",
      "text/plain": [
       "<Figure size 432x288 with 1 Axes>"
      ]
     },
     "metadata": {},
     "output_type": "display_data"
    }
   ],
   "source": [
    "sns.boxplot(x=race, y=df_nhanes['bp_sys']);"
   ]
  },
  {
   "cell_type": "markdown",
   "metadata": {},
   "source": [
    "Next, let's investigate the possible association between age (a continuous variable) and systolic blood pressure."
   ]
  },
  {
   "cell_type": "code",
   "execution_count": 14,
   "metadata": {},
   "outputs": [
    {
     "name": "stdout",
     "output_type": "stream",
     "text": [
      "Intercept: 99.57\n",
      "Slope: [0.47965378]\n",
      "R-squared: 0.34160448746617156\n"
     ]
    }
   ],
   "source": [
    "col_lst = ['age']\n",
    "target = 'bp_sys'\n",
    "res = lin_reg(df_nhanes, col_lst, target)\n",
    "print_regr_result(res)"
   ]
  },
  {
   "cell_type": "markdown",
   "metadata": {},
   "source": [
    "The unadjusted association of systolic blood pressure with age is: $99.6 + 0.48x_{1}$ where $x_{1}$ is age in years with an R-squared value 0f 0.34."
   ]
  },
  {
   "cell_type": "code",
   "execution_count": 15,
   "metadata": {},
   "outputs": [
    {
     "data": {
      "image/png": "[encoded data removed]",
      "text/plain": [
       "<Figure size 432x288 with 1 Axes>"
      ]
     },
     "metadata": {},
     "output_type": "display_data"
    }
   ],
   "source": [
    "g = sns.regplot(x='age', y='bp_sys', data=df_nhanes,\n",
    "                scatter_kws={\"color\": \"blue\"},\n",
    "                line_kws={\"color\": \"red\"});"
   ]
  },
  {
   "cell_type": "markdown",
   "metadata": {},
   "source": [
    "#### Multiple Linear Regression: An Example"
   ]
  },
  {
   "cell_type": "code",
   "execution_count": 16,
   "metadata": {},
   "outputs": [
    {
     "name": "stdout",
     "output_type": "stream",
     "text": [
      "Column names: ['age', 'gender', 'race_1', 'race_2', 'race_3', 'race_4', 'race_5']\n",
      "Intercept: 101.29399972363476\n",
      "Coefficients: [ 0.49128866 -3.59784551 -0.61921427 -1.86485106  2.59138622 -1.6943693\n",
      "  1.35228131]\n",
      "R-squared: 0.3613152808737773\n"
     ]
    }
   ],
   "source": [
    "col_lst = ['age', 'gender', 'race*']\n",
    "target = 'bp_sys'\n",
    "res = lin_reg(df_nhanes, col_lst, target)\n",
    "print(\"Column names:\", res[1])\n",
    "print(\"Intercept:\", res[0]['intercept'])\n",
    "print(\"Coefficients:\", res[0]['coefficients'])\n",
    "print(\"R-squared:\", res[0]['r-squared'])"
   ]
  },
  {
   "cell_type": "markdown",
   "metadata": {},
   "source": [
    "- The overall regression equation is: $\\hat{y} = \\hat\\beta_{0} + \\hat\\beta_{1}x_{1} + \\hat\\beta_{2}x_{2} + \\hat\\beta_{3}x_{3} + \\hat\\beta_{4}x_{4} + \\hat\\beta_{5}x_{5} + \\hat\\beta_{6}x_{6}$ where $x_{1}$ is age in years, $x_{2} =1$ for female, zero otherwise, $x_{3} = 1$ for `other_hispanic`, zero otherwise, $x_{4} = 1$ for `white`, zero otherwise, etc.\n",
    "\n",
    "- A multiple regression using `age`, `gender`, and `race` as predictors, shows that the unadjusted associaton of systolic blood pressure is 0.48 while the age-adjusted association is 0.49.\n",
    "\n",
    "- The adjusted association with respect to gender is $-3.6x_{2}$ (second coefficient in the list) which is slightly different from the unadjusted value of -3.4. Note that $x_{2} = 1$ for women. \n",
    "\n",
    "- The adjusted association with respect to race is $-1.9x_{4}$ for persons identifying as white while the unadjusted value was 3.34.\n",
    "\n",
    "- The overall $R^{2}$ value is 0.36 which is slightly higher than that for age alone (0.34).\n",
    "\n",
    "- Generically speaking, each slope ̂$\\beta_{i}$, i to p,is the estimated adjusted mean difference in $\\hat y$ for two groups who differ by one unit in $x_{i}$, adjusted for all other 𝑥s in the model.\n",
    "\n",
    "- The intercept, ̂$\\beta_{0}$, is the estimated mean for the group with all xs = 0. This may not be a relevant quantity, depending on the predictor set $x_{1}, x_{2}, ... x_{p}$, but it is still necessary to specify the regression equation fully."
   ]
  },
  {
   "cell_type": "markdown",
   "metadata": {},
   "source": [
    "#### Basics of Model Estimation, and Handling Uncertainty in the Resulting Estimates"
   ]
  },
  {
   "cell_type": "markdown",
   "metadata": {},
   "source": [
    "## TBD"
   ]
  },
  {
   "cell_type": "code",
   "execution_count": 17,
   "metadata": {},
   "outputs": [],
   "source": [
    "import statsmodels.api as sm"
   ]
  },
  {
   "cell_type": "markdown",
   "metadata": {},
   "source": [
    "#### Estimate Group Means and Mean Differences for Groups Who Differ in More than One Predictor with Multiple Linear Regression  \n",
    "\n",
    "##### Estimate a single group mean, based on a specific set of predictor values, using multiple linear regression  \n",
    "\n",
    "The MLR equation: $\\hat{y} = 101.3 + 0.49x_{1} + -3.6x_{2} - 0.62x_{3} - 1.86x_{4} + 2.59x_{5} - 1.69x_{6} + 1.35x_{7}$."
   ]
  },
  {
   "cell_type": "markdown",
   "metadata": {},
   "source": [
    "Estimate the mean SBP for 50-year-old females who identify as non-Hispanic White:"
   ]
  },
  {
   "cell_type": "code",
   "execution_count": 18,
   "metadata": {},
   "outputs": [
    {
     "name": "stdout",
     "output_type": "stream",
     "text": [
      "123.94\n"
     ]
    }
   ],
   "source": [
    "def estimate_bp(coeffs, l1, l2=None):\n",
    "    \"\"\"\n",
    "    Estimate group means or mean differences for groups\n",
    "    who differ in more than one predictor with MLR\n",
    "    Inputs:\n",
    "        coeffs: array of regression coefficients\n",
    "        l1, l2: array(s) of values to compare\n",
    "    \"\"\"\n",
    "    if np.any(l2):\n",
    "        return np.sum(np.subtract(coeffs*l1, coeffs*l2))\n",
    "    else:\n",
    "        return np.sum(coeffs*l1)\n",
    "    \n",
    "coeffs = np.array([101.3, 0.49, 3.6, 0.62, -1.86, 2.59, -1.69, 1.35])\n",
    "l1 = np.array([1, 50, 0, 0, 1, 0, 0, 0])\n",
    "\n",
    "print(estimate_bp(coeffs, l1)) # 50-year-old female, white"
   ]
  },
  {
   "cell_type": "markdown",
   "metadata": {},
   "source": [
    "##### Estimate a mean difference in the outcome 𝑦 for two groups who differ in more than one predictor  \n",
    "\n",
    "Estimate the mean difference SBP for 50-year-old females who identify as non-Hispanic White and 60-year-old males who identify as Hispanic:"
   ]
  },
  {
   "cell_type": "code",
   "execution_count": 19,
   "metadata": {},
   "outputs": [
    {
     "name": "stdout",
     "output_type": "stream",
     "text": [
      "-7.38\n"
     ]
    }
   ],
   "source": [
    "coeffs = np.array([101.3, 0.49, 3.6, 0.62, -1.86, 2.59, -1.69, 1.35])\n",
    "l1 = np.array([1, 50, 0, 0, 1, 0, 0, 0]) # 50-year-old female, white\n",
    "l2 = np.array([1, 60, 0, 1, 0, 0, 0, 0]) # 60-year-old male, hispanic\n",
    "\n",
    "print(round(estimate_bp(coeffs, l1, l2),2))"
   ]
  },
  {
   "cell_type": "markdown",
   "metadata": {},
   "source": [
    "#### The “Linearity” Assumption and Estimating Amount of Variability Explained by Multiple Predictors  \n",
    "\n",
    "Multiple linear regression analysis makes several key assumptions:\n",
    "\n",
    "- There must be a linear relationship between the outcome variable and the independent variables.  Scatterplots can show whether there is a linear or curvilinear relationship.\n",
    "- Multiple regression assumes that the residuals are normally distributed.\n",
    "- Multiple regression assumes that the independent variables are not highly correlated with each other.  This assumption is tested using Variance Inflation Factor (VIF) values.\n",
    "- Homoscedasticity: This assumption states that the variance of error terms are similar across the values of the independent variables. A plot of standardized residuals versus predicted values can show whether points are equally distributed across all values of the independent variables."
   ]
  },
  {
   "cell_type": "code",
   "execution_count": 20,
   "metadata": {},
   "outputs": [
    {
     "name": "stdout",
     "output_type": "stream",
     "text": [
      "                            OLS Regression Results                            \n",
      "==============================================================================\n",
      "Dep. Variable:                      y   R-squared:                       0.352\n",
      "Model:                            OLS   Adj. R-squared:                  0.352\n",
      "Method:                 Least Squares   F-statistic:                     1928.\n",
      "Date:                Sat, 06 Jun 2020   Prob (F-statistic):               0.00\n",
      "Time:                        15:27:45   Log-Likelihood:                -29065.\n",
      "No. Observations:                7104   AIC:                         5.814e+04\n",
      "Df Residuals:                    7101   BIC:                         5.816e+04\n",
      "Df Model:                           2                                         \n",
      "Covariance Type:            nonrobust                                         \n",
      "==============================================================================\n",
      "                 coef    std err          t      P>|t|      [0.025      0.975]\n",
      "------------------------------------------------------------------------------\n",
      "const        101.3997      0.388    261.481      0.000     100.640     102.160\n",
      "x1             0.4805      0.008     61.280      0.000       0.465       0.496\n",
      "x2            -3.6436      0.344    -10.604      0.000      -4.317      -2.970\n",
      "==============================================================================\n",
      "Omnibus:                     1006.188   Durbin-Watson:                   2.019\n",
      "Prob(Omnibus):                  0.000   Jarque-Bera (JB):             2865.379\n",
      "Skew:                           0.761   Prob(JB):                         0.00\n",
      "Kurtosis:                       5.714   Cond. No.                         114.\n",
      "==============================================================================\n",
      "\n",
      "Warnings:\n",
      "[1] Standard Errors assume that the covariance matrix of the errors is correctly specified.\n"
     ]
    }
   ],
   "source": [
    "X = sm.add_constant(np.array(df_nhanes[['age', 'gender']])) # add intercept values!\n",
    "y = np.array(df_nhanes['bp_sys'])\n",
    "model = sm.OLS(y, X)\n",
    "model_fit = model.fit()\n",
    "print(model_fit.summary())"
   ]
  },
  {
   "cell_type": "markdown",
   "metadata": {},
   "source": [
    "Checking modeling assumptions with respect to a single regressor, x1 (age)."
   ]
  },
  {
   "cell_type": "code",
   "execution_count": 21,
   "metadata": {},
   "outputs": [
    {
     "data": {
      "image/png": "[encoded data removed]",
      "text/plain": [
       "<Figure size 864x576 with 4 Axes>"
      ]
     },
     "metadata": {},
     "output_type": "display_data"
    }
   ],
   "source": [
    "fig = plt.figure(figsize=(12,8))\n",
    "fig = sm.graphics.plot_regress_exog(model_fit, \"x1\", fig=fig)"
   ]
  },
  {
   "cell_type": "markdown",
   "metadata": {},
   "source": [
    "#### Investigating Effect Modification with Multiple Linear Regression  \n",
    "\n",
    "There is an important distinction between confounding and effect modification. Confounding is a distortion of an estimated association caused by an unequal distribution of another risk factor. When there is confounding, we would like to account for it (or adjust for it) in order to estimate the association without distortion. In contrast, effect modification is a biological phenomenon in which the magnitude of association differs at different levels of another factor, e.g., a drug that has an effect on men, but not in women. \n",
    "\n",
    "Effect modification results are easiest to interpret when at least one of the two pieces is binary or categorical  \n",
    "- Treatment (drug vs. placebo) and biological sex (male, female)\n",
    "- Height (continuous) and biological sex (male, female)\n",
    "- Age (continuous) and ethnicity (Mexican American, Hispanic, Non-Hispanic White, Non-Hispanic Black, Other)  \n",
    "\n",
    "It can be assessed when both pieces are continuous, but is “messy” to interpret\n",
    "- Height (continuous) and weight (continuous)  \n",
    "\n",
    "Option 1  \n",
    "- Stratify the data into difference subsets, based on each level of one of the variables involved (sex, ethnicity, etc.) and estimated separate regressions on each subset\n",
    "- Compare the estimated slopes for each predictor across the different subsets  \n",
    "- This is a good option if the researcher is concerned that one measure (the stratifying variable) modifies all outcome predictor relationships\n",
    "\n",
    "Option 2\n",
    "- Create an interaction term between the main exposure of interest in terms of effect modification—and its potential effect modifier\n",
    "- Run a regression that includes the exposure of interest, the potential effect modifier, the interaction term, and all other predictors of interest\n",
    "- This allows for an assessment of a specific effect modification of interest while using all of the data to estimate other (adjusted) outcome exposure relationships\n",
    "- This also allows for a formal statistical test of effect modification"
   ]
  },
  {
   "cell_type": "markdown",
   "metadata": {},
   "source": [
    "The National Hospital Ambulatory Medical Care Surveys (NHAMCS) provide data from samples of patient records selected from emergency departments (EDs) and outpatient departments (OPDs) of a national sample of hospitals. The resulting national estimates describe the use of hospital ambulatory medical care services in the United States. For the 2008 survey, data were colected from 209 OPDs and 431 EDs. Among the variables included are age, race, and sex of the patient, reason for the visit physician's diagnoses, cause of injury, surgical procedures (OPD's only), medication therapy, and expected source of payment (https://www.icpsr.umich.edu/web/ICPSR/studies/29922/summary)."
   ]
  },
  {
   "cell_type": "code",
   "execution_count": 22,
   "metadata": {},
   "outputs": [],
   "source": [
    "import statsmodels.formula.api as smf"
   ]
  },
  {
   "cell_type": "code",
   "execution_count": 23,
   "metadata": {},
   "outputs": [],
   "source": [
    "def load_NHAMCS():\n",
    "    df = pd.read_csv(\"data/NHAMCS_ED_2008.tsv\", sep=\"\\t\")\n",
    "    df = df[df['RACEUN'] != -9] # -9 indicates missing\n",
    "    df = df[df['WAITTIME'] != -9]\n",
    "    df = df[df['BPSYS'] != -9]\n",
    "    df['RACEUN'].replace({1:0, 2:1, 3:2, 4:2, 5:2, 6:2}, inplace=True) # Group all except white and black into other\n",
    "    df['SEX'].replace({2:0,}, inplace=True) # 0:male, 1:female   \n",
    "    \n",
    "    dummies = pd.get_dummies(df['RACEUN'], prefix='race', drop_first=True)\n",
    "    df = df.join(dummies)\n",
    "    df.drop('RACEUN', axis=1, inplace=True)\n",
    "    columns = ['AGE', 'SEX', 'race_1', 'race_2', 'PAYPRIV', 'BPSYS', 'WAITTIME']\n",
    "    return df[columns]\n",
    "\n",
    "df = load_NHAMCS()"
   ]
  },
  {
   "cell_type": "markdown",
   "metadata": {},
   "source": [
    "Boxplot of waiting time."
   ]
  },
  {
   "cell_type": "code",
   "execution_count": 24,
   "metadata": {},
   "outputs": [
    {
     "name": "stdout",
     "output_type": "stream",
     "text": [
      "Minimum wait time: 0\n",
      "Maximum wait time: 1407\n",
      "Mean (and stdev) of wait time: 57.19 ( 75.67 )\n"
     ]
    },
    {
     "data": {
      "image/png": "[encoded data removed]",
      "text/plain": [
       "<Figure size 432x288 with 1 Axes>"
      ]
     },
     "metadata": {},
     "output_type": "display_data"
    }
   ],
   "source": [
    "plt.boxplot(df['WAITTIME']);\n",
    "print(\"Minimum wait time:\", df['WAITTIME'].min())\n",
    "print(\"Maximum wait time:\", df['WAITTIME'].max())\n",
    "print(\"Mean (and stdev) of wait time:\", round(df['WAITTIME'].mean(),2),\"(\",\n",
    "      round(df['WAITTIME'].std(),2), \")\")"
   ]
  },
  {
   "cell_type": "markdown",
   "metadata": {},
   "source": [
    "Multiple linear regression with multiple predictors and `WAITTIME` as the outcome."
   ]
  },
  {
   "cell_type": "code",
   "execution_count": 25,
   "metadata": {},
   "outputs": [
    {
     "name": "stdout",
     "output_type": "stream",
     "text": [
      "                            OLS Regression Results                            \n",
      "==============================================================================\n",
      "Dep. Variable:               WAITTIME   R-squared:                       0.013\n",
      "Model:                            OLS   Adj. R-squared:                  0.013\n",
      "Method:                 Least Squares   F-statistic:                     56.06\n",
      "Date:                Sat, 06 Jun 2020   Prob (F-statistic):           4.25e-58\n",
      "Time:                        15:27:54   Log-Likelihood:            -1.1980e+05\n",
      "No. Observations:               20876   AIC:                         2.396e+05\n",
      "Df Residuals:                   20870   BIC:                         2.397e+05\n",
      "Df Model:                           5                                         \n",
      "Covariance Type:            nonrobust                                         \n",
      "==============================================================================\n",
      "                 coef    std err          t      P>|t|      [0.025      0.975]\n",
      "------------------------------------------------------------------------------\n",
      "Intercept     56.8937      3.061     18.585      0.000      50.893      62.894\n",
      "SEX            4.8851      1.047      4.667      0.000       2.833       6.937\n",
      "race_1        16.9855      1.225     13.870      0.000      14.585      19.386\n",
      "race_2         6.3472      2.485      2.554      0.011       1.476      11.218\n",
      "PAYPRIV       -5.9216      1.073     -5.520      0.000      -8.024      -3.819\n",
      "BPSYS         -0.0340      0.022     -1.558      0.119      -0.077       0.009\n",
      "==============================================================================\n",
      "Omnibus:                    20112.193   Durbin-Watson:                   1.610\n",
      "Prob(Omnibus):                  0.000   Jarque-Bera (JB):          1303357.675\n",
      "Skew:                           4.613   Prob(JB):                         0.00\n",
      "Kurtosis:                      40.594   Cond. No.                         805.\n",
      "==============================================================================\n",
      "\n",
      "Warnings:\n",
      "[1] Standard Errors assume that the covariance matrix of the errors is correctly specified.\n"
     ]
    }
   ],
   "source": [
    "results = smf.ols('WAITTIME~SEX+race_1+race_2+PAYPRIV+BPSYS', data=df).fit()\n",
    "print(results.summary())"
   ]
  },
  {
   "cell_type": "markdown",
   "metadata": {},
   "source": [
    "The regression equation with the actual intercept and slope estimates is:  \n",
    "\n",
    "$ \\hat{y} = 56.9 + 4.9x_{1} + 17.0x_{2} +6.3x{3} -5.9x_{4} -0.03x_{5}$  \n",
    "\n",
    "where $x_{1} = 1$ when female, 0 for males, $x_{2} = 1$ for black, 0 for white or other, $x_{3} = 1$ for other racial identity, 0 for white or black, $x_{4} = 1$ for private insurance, 0 othrwise and $x_{5}$ is systolic blood pressure (mmHg)."
   ]
  },
  {
   "cell_type": "markdown",
   "metadata": {},
   "source": [
    "##### Stratify the data into difference subsets, based on each level of one of the variables involved (sex, ethnicity, etc.) and estimated separate regressions on each subset and compare the estimated slopes for each predictor across the different subsets"
   ]
  },
  {
   "cell_type": "code",
   "execution_count": 26,
   "metadata": {},
   "outputs": [
    {
     "name": "stdout",
     "output_type": "stream",
     "text": [
      "Intercept    63.086752\n",
      "BPSYS        -0.044377\n",
      "dtype: float64\n"
     ]
    }
   ],
   "source": [
    "# Unadjusted association between systolic blood pressure and waittime\n",
    "res_unadj = smf.ols('WAITTIME~BPSYS', data=df).fit()\n",
    "print(res_unadj.params)"
   ]
  },
  {
   "cell_type": "code",
   "execution_count": 27,
   "metadata": {},
   "outputs": [
    {
     "name": "stdout",
     "output_type": "stream",
     "text": [
      "Intercept    59.664586\n",
      "BPSYS        -0.039521\n",
      "SEX           5.064007\n",
      "dtype: float64\n"
     ]
    }
   ],
   "source": [
    "# Sex-adjusted association between systolic blood pressure and waittime\n",
    "res_adj = smf.ols('WAITTIME~BPSYS+SEX', data=df).fit()\n",
    "print(res_adj.params)"
   ]
  },
  {
   "cell_type": "code",
   "execution_count": 28,
   "metadata": {},
   "outputs": [
    {
     "name": "stdout",
     "output_type": "stream",
     "text": [
      "Coefficients for males:\n",
      " Intercept    56.132405\n",
      "BPSYS        -0.013159\n",
      "dtype: float64\n"
     ]
    }
   ],
   "source": [
    "# Association between systolic blood pressure and waittime: males\n",
    "males = df[df['SEX'] == 0]\n",
    "res_sex_males = smf.ols('WAITTIME~BPSYS', data=males).fit()\n",
    "print(\"Coefficients for males:\\n\", res_sex_males.params)"
   ]
  },
  {
   "cell_type": "code",
   "execution_count": 29,
   "metadata": {},
   "outputs": [
    {
     "name": "stdout",
     "output_type": "stream",
     "text": [
      "\n",
      "Coefficients for females:\n",
      " Intercept    67.483426\n",
      "BPSYS        -0.060428\n",
      "dtype: float64\n"
     ]
    }
   ],
   "source": [
    "# Association between systolic blood pressure and waittime: females\n",
    "females = df[df['SEX'] == 1]\n",
    "res_sex_females = smf.ols('WAITTIME~BPSYS', data=females).fit()\n",
    "print(\"\\nCoefficients for females:\\n\", res_sex_females.params)"
   ]
  },
  {
   "cell_type": "markdown",
   "metadata": {},
   "source": [
    "##### Create an interaction term between the main exposure of interest in terms of effect modification—and its potential effect modifier."
   ]
  },
  {
   "cell_type": "code",
   "execution_count": 30,
   "metadata": {},
   "outputs": [],
   "source": [
    "df['SEX_BPSYS_INT'] = df['SEX'] * df['BPSYS']"
   ]
  },
  {
   "cell_type": "code",
   "execution_count": 31,
   "metadata": {},
   "outputs": [
    {
     "name": "stdout",
     "output_type": "stream",
     "text": [
      "Intercept        56.132405\n",
      "BPSYS            -0.013159\n",
      "SEX              11.351021\n",
      "SEX_BPSYS_INT    -0.047269\n",
      "dtype: float64\n"
     ]
    }
   ],
   "source": [
    "res_int = smf.ols('WAITTIME~BPSYS+SEX+SEX_BPSYS_INT', data=df).fit()\n",
    "print(res_int.params)"
   ]
  },
  {
   "cell_type": "markdown",
   "metadata": {},
   "source": [
    "### 2. Multiple Logistic Regression: Examples"
   ]
  },
  {
   "cell_type": "code",
   "execution_count": 32,
   "metadata": {},
   "outputs": [
    {
     "data": {
      "text/html": [
       "<div>\n",
       "<style scoped>\n",
       "    .dataframe tbody tr th:only-of-type {\n",
       "        vertical-align: middle;\n",
       "    }\n",
       "\n",
       "    .dataframe tbody tr th {\n",
       "        vertical-align: top;\n",
       "    }\n",
       "\n",
       "    .dataframe thead th {\n",
       "        text-align: right;\n",
       "    }\n",
       "</style>\n",
       "<table border=\"1\" class=\"dataframe\">\n",
       "  <thead>\n",
       "    <tr style=\"text-align: right;\">\n",
       "      <th></th>\n",
       "      <th>gender</th>\n",
       "      <th>age</th>\n",
       "      <th>weight</th>\n",
       "      <th>height</th>\n",
       "      <th>bmi</th>\n",
       "      <th>obese</th>\n",
       "      <th>bp_sys</th>\n",
       "      <th>bp_dia</th>\n",
       "      <th>race_1</th>\n",
       "      <th>race_2</th>\n",
       "      <th>race_3</th>\n",
       "      <th>race_4</th>\n",
       "      <th>race_5</th>\n",
       "      <th>hdl</th>\n",
       "    </tr>\n",
       "    <tr>\n",
       "      <th>seqn</th>\n",
       "      <th></th>\n",
       "      <th></th>\n",
       "      <th></th>\n",
       "      <th></th>\n",
       "      <th></th>\n",
       "      <th></th>\n",
       "      <th></th>\n",
       "      <th></th>\n",
       "      <th></th>\n",
       "      <th></th>\n",
       "      <th></th>\n",
       "      <th></th>\n",
       "      <th></th>\n",
       "      <th></th>\n",
       "    </tr>\n",
       "  </thead>\n",
       "  <tbody>\n",
       "    <tr>\n",
       "      <th>73557.0</th>\n",
       "      <td>0</td>\n",
       "      <td>69.0</td>\n",
       "      <td>78.3</td>\n",
       "      <td>171.3</td>\n",
       "      <td>26.7</td>\n",
       "      <td>0</td>\n",
       "      <td>122.0</td>\n",
       "      <td>72.0</td>\n",
       "      <td>0</td>\n",
       "      <td>0</td>\n",
       "      <td>1</td>\n",
       "      <td>0</td>\n",
       "      <td>0</td>\n",
       "      <td>65.0</td>\n",
       "    </tr>\n",
       "    <tr>\n",
       "      <th>73558.0</th>\n",
       "      <td>0</td>\n",
       "      <td>54.0</td>\n",
       "      <td>89.5</td>\n",
       "      <td>176.8</td>\n",
       "      <td>28.6</td>\n",
       "      <td>0</td>\n",
       "      <td>156.0</td>\n",
       "      <td>62.0</td>\n",
       "      <td>0</td>\n",
       "      <td>1</td>\n",
       "      <td>0</td>\n",
       "      <td>0</td>\n",
       "      <td>0</td>\n",
       "      <td>50.0</td>\n",
       "    </tr>\n",
       "    <tr>\n",
       "      <th>73559.0</th>\n",
       "      <td>0</td>\n",
       "      <td>72.0</td>\n",
       "      <td>88.9</td>\n",
       "      <td>175.3</td>\n",
       "      <td>28.9</td>\n",
       "      <td>0</td>\n",
       "      <td>140.0</td>\n",
       "      <td>90.0</td>\n",
       "      <td>0</td>\n",
       "      <td>1</td>\n",
       "      <td>0</td>\n",
       "      <td>0</td>\n",
       "      <td>0</td>\n",
       "      <td>60.0</td>\n",
       "    </tr>\n",
       "    <tr>\n",
       "      <th>73560.0</th>\n",
       "      <td>0</td>\n",
       "      <td>9.0</td>\n",
       "      <td>32.2</td>\n",
       "      <td>137.3</td>\n",
       "      <td>17.1</td>\n",
       "      <td>0</td>\n",
       "      <td>108.0</td>\n",
       "      <td>38.0</td>\n",
       "      <td>0</td>\n",
       "      <td>1</td>\n",
       "      <td>0</td>\n",
       "      <td>0</td>\n",
       "      <td>0</td>\n",
       "      <td>61.0</td>\n",
       "    </tr>\n",
       "    <tr>\n",
       "      <th>73561.0</th>\n",
       "      <td>1</td>\n",
       "      <td>73.0</td>\n",
       "      <td>52.0</td>\n",
       "      <td>162.4</td>\n",
       "      <td>19.7</td>\n",
       "      <td>0</td>\n",
       "      <td>136.0</td>\n",
       "      <td>86.0</td>\n",
       "      <td>0</td>\n",
       "      <td>1</td>\n",
       "      <td>0</td>\n",
       "      <td>0</td>\n",
       "      <td>0</td>\n",
       "      <td>85.0</td>\n",
       "    </tr>\n",
       "  </tbody>\n",
       "</table>\n",
       "</div>"
      ],
      "text/plain": [
       "         gender   age  weight  height   bmi  obese  bp_sys  bp_dia  race_1  \\\n",
       "seqn                                                                         \n",
       "73557.0       0  69.0    78.3   171.3  26.7      0   122.0    72.0       0   \n",
       "73558.0       0  54.0    89.5   176.8  28.6      0   156.0    62.0       0   \n",
       "73559.0       0  72.0    88.9   175.3  28.9      0   140.0    90.0       0   \n",
       "73560.0       0   9.0    32.2   137.3  17.1      0   108.0    38.0       0   \n",
       "73561.0       1  73.0    52.0   162.4  19.7      0   136.0    86.0       0   \n",
       "\n",
       "         race_2  race_3  race_4  race_5   hdl  \n",
       "seqn                                           \n",
       "73557.0       0       1       0       0  65.0  \n",
       "73558.0       1       0       0       0  50.0  \n",
       "73559.0       1       0       0       0  60.0  \n",
       "73560.0       1       0       0       0  61.0  \n",
       "73561.0       1       0       0       0  85.0  "
      ]
     },
     "execution_count": 32,
     "metadata": {},
     "output_type": "execute_result"
    }
   ],
   "source": [
    "# Add HDL data to NHANES dataframe\n",
    "lines = []\n",
    "with open('data/NHANES_Lab_HDL_Data_2013_2014.XPT', 'rb') as f:\n",
    "    for row in xport.Reader(f):\n",
    "        lines.append(row)       \n",
    "columns = ['seqn', 'hdl']\n",
    "df_nhanes_hdl = pd.DataFrame(np.array(lines)[:, [0,1]], columns=columns)\n",
    "df_nhanes = df_nhanes.join(df_nhanes_hdl.set_index('seqn'), on='seqn', how='inner')\n",
    "df_nhanes.head()"
   ]
  },
  {
   "cell_type": "markdown",
   "metadata": {},
   "source": [
    "Look at the unadjusted association between obesity and sex:"
   ]
  },
  {
   "cell_type": "code",
   "execution_count": 33,
   "metadata": {},
   "outputs": [
    {
     "name": "stdout",
     "output_type": "stream",
     "text": [
      "Optimization terminated successfully.\n",
      "         Current function value: 0.603570\n",
      "         Iterations 5\n",
      "                           Logit Regression Results                           \n",
      "==============================================================================\n",
      "Dep. Variable:                  obese   No. Observations:                 7104\n",
      "Model:                          Logit   Df Residuals:                     7102\n",
      "Method:                           MLE   Df Model:                            1\n",
      "Date:                Sat, 06 Jun 2020   Pseudo R-squ.:                0.005810\n",
      "Time:                        15:27:55   Log-Likelihood:                -4287.8\n",
      "converged:                       True   LL-Null:                       -4312.8\n",
      "Covariance Type:            nonrobust   LLR p-value:                 1.451e-12\n",
      "==============================================================================\n",
      "                 coef    std err          z      P>|z|      [0.025      0.975]\n",
      "------------------------------------------------------------------------------\n",
      "Intercept     -1.0637      0.039    -27.422      0.000      -1.140      -0.988\n",
      "gender         0.3697      0.052      7.053      0.000       0.267       0.472\n",
      "==============================================================================\n"
     ]
    }
   ],
   "source": [
    "res_lr = smf.logit('obese~gender', data=df_nhanes).fit()\n",
    "print(res_lr.summary())"
   ]
  },
  {
   "cell_type": "markdown",
   "metadata": {},
   "source": [
    "Thus, the unadjusted ln(odds of obsesity) = $-1.06 + 0.37x_{1}$ where $x_{1} = 1$ for females, zero for males. Therefore the $\\hat{OR}$ of obesity in females compared to males is $e^{0.37}$ or approximately 1.45 (95% CI: 1.31, 1.60)."
   ]
  },
  {
   "cell_type": "markdown",
   "metadata": {},
   "source": [
    "Look at the unadjusted association between obesity and hdl:"
   ]
  },
  {
   "cell_type": "code",
   "execution_count": 34,
   "metadata": {},
   "outputs": [
    {
     "name": "stdout",
     "output_type": "stream",
     "text": [
      "Optimization terminated successfully.\n",
      "         Current function value: 0.583266\n",
      "         Iterations 6\n",
      "                           Logit Regression Results                           \n",
      "==============================================================================\n",
      "Dep. Variable:                  obese   No. Observations:                 6639\n",
      "Model:                          Logit   Df Residuals:                     6637\n",
      "Method:                           MLE   Df Model:                            1\n",
      "Date:                Sat, 06 Jun 2020   Pseudo R-squ.:                 0.04781\n",
      "Time:                        15:27:55   Log-Likelihood:                -3872.3\n",
      "converged:                       True   LL-Null:                       -4066.7\n",
      "Covariance Type:            nonrobust   LLR p-value:                 1.467e-86\n",
      "==============================================================================\n",
      "                 coef    std err          z      P>|z|      [0.025      0.975]\n",
      "------------------------------------------------------------------------------\n",
      "Intercept      1.1793      0.111     10.662      0.000       0.962       1.396\n",
      "hdl           -0.0394      0.002    -18.223      0.000      -0.044      -0.035\n",
      "==============================================================================\n"
     ]
    }
   ],
   "source": [
    "res_lr2 = smf.logit('obese~hdl', data=df_nhanes).fit()\n",
    "print(res_lr2.summary())"
   ]
  },
  {
   "cell_type": "markdown",
   "metadata": {},
   "source": [
    "The unadjusted ln(odds of obesity) = $1.18 - 0.04x_{1}$ where $x_{1} = HDL (mg/dL)$. The slope $\\beta_{1}$ estimates the ln odds ratio of obesity for two groups whose HDL levels differ by one mg/dL. Thus, the $\\hat{OR} = e^{-0.0394}$ or approximately 0.961 (95% CI: 0.957, 0.966). In other words, higher HDL subjects (by one mg/dL) have a 4% lower odds of being obese when compared to lower HDL subjects."
   ]
  },
  {
   "cell_type": "markdown",
   "metadata": {},
   "source": [
    "It is possible that `gender` and `hdl` are related. Indeed, the boxplot below shows that females have higher HDL levels."
   ]
  },
  {
   "cell_type": "code",
   "execution_count": 35,
   "metadata": {},
   "outputs": [
    {
     "data": {
      "image/png": "[encoded data removed]",
      "text/plain": [
       "<Figure size 432x288 with 1 Axes>"
      ]
     },
     "metadata": {},
     "output_type": "display_data"
    }
   ],
   "source": [
    "sns.boxplot(x='gender', y='hdl', data=df_nhanes);"
   ]
  },
  {
   "cell_type": "code",
   "execution_count": 36,
   "metadata": {},
   "outputs": [
    {
     "name": "stdout",
     "output_type": "stream",
     "text": [
      "Optimization terminated successfully.\n",
      "         Current function value: 0.572128\n",
      "         Iterations 6\n",
      "                           Logit Regression Results                           \n",
      "==============================================================================\n",
      "Dep. Variable:                  obese   No. Observations:                 6639\n",
      "Model:                          Logit   Df Residuals:                     6636\n",
      "Method:                           MLE   Df Model:                            2\n",
      "Date:                Sat, 06 Jun 2020   Pseudo R-squ.:                 0.06599\n",
      "Time:                        15:27:56   Log-Likelihood:                -3798.4\n",
      "converged:                       True   LL-Null:                       -4066.7\n",
      "Covariance Type:            nonrobust   LLR p-value:                2.794e-117\n",
      "==============================================================================\n",
      "                 coef    std err          z      P>|z|      [0.025      0.975]\n",
      "------------------------------------------------------------------------------\n",
      "Intercept      1.1747      0.113     10.425      0.000       0.954       1.395\n",
      "gender         0.6994      0.058     11.991      0.000       0.585       0.814\n",
      "hdl           -0.0466      0.002    -20.209      0.000      -0.051      -0.042\n",
      "==============================================================================\n"
     ]
    }
   ],
   "source": [
    "res_lr3 = smf.logit('obese~gender+hdl', data=df_nhanes).fit()\n",
    "print(res_lr3.summary())"
   ]
  },
  {
   "cell_type": "markdown",
   "metadata": {},
   "source": [
    "- From the results presented above we can see that the unadjusted association of gender with obesity is 1.45 (1.31, 1.60) while the unadjusted association of hdl with obesity is 0.961 (0.957, 0.966).  \n",
    "- When both features are included in the logistic regression, the *hdl*-adjusted odds ratio of obesity for females is 2.01 (1.79, 2.26) and the *gender*-adjusted association between obesity and hdl is given by an odds ratio of 0.954 (0.950, 0.958).  \n",
    "- Note that the 95% confidence interval of the gender-adjusted odds ratio does not overlap with that of the unadjusted odds ratio and is therefore statistically different."
   ]
  },
  {
   "cell_type": "markdown",
   "metadata": {},
   "source": [
    "##### Estimating Group Odds and Proportions, and Odds Ratios for Groups Who Differ in More than One Predictor with Multiple Linear Regression"
   ]
  },
  {
   "cell_type": "code",
   "execution_count": 37,
   "metadata": {},
   "outputs": [],
   "source": [
    "# Select individuals 18 years of age or older\n",
    "df_logreg = df_nhanes[df_nhanes[\"age\"] >= 18].copy()"
   ]
  },
  {
   "cell_type": "code",
   "execution_count": 38,
   "metadata": {},
   "outputs": [],
   "source": [
    "# Add age quartiles to dataframe\n",
    "df_logreg[\"age_quartiles\"] = pd.qcut(df_logreg[\"age\"], q=4)"
   ]
  },
  {
   "cell_type": "code",
   "execution_count": 39,
   "metadata": {},
   "outputs": [
    {
     "name": "stdout",
     "output_type": "stream",
     "text": [
      "Optimization terminated successfully.\n",
      "         Current function value: 0.602068\n",
      "         Iterations 6\n",
      "                           Logit Regression Results                           \n",
      "==============================================================================\n",
      "Dep. Variable:                  obese   No. Observations:                 5127\n",
      "Model:                          Logit   Df Residuals:                     5121\n",
      "Method:                           MLE   Df Model:                            5\n",
      "Date:                Sat, 06 Jun 2020   Pseudo R-squ.:                 0.07752\n",
      "Time:                        15:27:56   Log-Likelihood:                -3086.8\n",
      "converged:                       True   LL-Null:                       -3346.2\n",
      "Covariance Type:            nonrobust   LLR p-value:                7.060e-110\n",
      "=========================================================================================================================\n",
      "                                                            coef    std err          z      P>|z|      [0.025      0.975]\n",
      "-------------------------------------------------------------------------------------------------------------------------\n",
      "Intercept                                                 0.7917      0.128      6.184      0.000       0.541       1.043\n",
      "age_quartiles[T.Interval(31.0, 46.0, closed='right')]     0.6103      0.088      6.915      0.000       0.437       0.783\n",
      "age_quartiles[T.Interval(46.0, 62.0, closed='right')]     0.8262      0.088      9.354      0.000       0.653       0.999\n",
      "age_quartiles[T.Interval(62.0, 80.0, closed='right')]     0.5615      0.091      6.191      0.000       0.384       0.739\n",
      "gender                                                    0.7957      0.066     12.070      0.000       0.667       0.925\n",
      "hdl                                                      -0.0449      0.002    -18.318      0.000      -0.050      -0.040\n",
      "=========================================================================================================================\n"
     ]
    }
   ],
   "source": [
    "res_lr4 = smf.logit('obese~gender+hdl+age_quartiles', data=df_logreg).fit()\n",
    "print(res_lr4.summary())"
   ]
  },
  {
   "cell_type": "markdown",
   "metadata": {},
   "source": [
    "The model, as shown above is ln(odds of obesity) = $0.792 + 0.796x_{1} -0.045x_{2} + 0.61x_{3} + 0.82x_{4} + 0.56x_{5}$.  \n",
    "\n",
    "**Estimate the proportion of obese adult females with HDL of 75 mg/dL who are 65 years old (4th age quartile).**"
   ]
  },
  {
   "cell_type": "code",
   "execution_count": 40,
   "metadata": {},
   "outputs": [
    {
     "name": "stdout",
     "output_type": "stream",
     "text": [
      "The odds of obesity are: 0.29\n",
      "The probability of obesity is: 0.23\n"
     ]
    }
   ],
   "source": [
    "def est_prop(coeffs, value_lst):\n",
    "    \"\"\"\n",
    "    Calculate the odds and probability given a set of coefficients and values\n",
    "    \"\"\"\n",
    "    res = np.sum(coeffs * value_lst)\n",
    "    odds = np.exp(res)\n",
    "    prob = odds/(1+odds)\n",
    "    return (odds, prob)\n",
    "\n",
    "odds, prob = est_prop(np.array([0.792, 0.796, -0.045, 0.61, 0.82, 0.56]), np.array([1, 1, 75, 0, 0, 1]))\n",
    "print(\"The odds of obesity are:\", round(odds, 2))\n",
    "print(\"The probability of obesity is:\", round(prob, 2))"
   ]
  },
  {
   "cell_type": "markdown",
   "metadata": {},
   "source": [
    "**Display a graph showing the estimated proportion (probability) of being obese for females and males by HDL level (mg/dL) and age quartile.**"
   ]
  },
  {
   "cell_type": "code",
   "execution_count": 41,
   "metadata": {},
   "outputs": [
    {
     "data": {
      "image/png": "[encoded data removed]",
      "text/plain": [
       "<Figure size 864x360 with 2 Axes>"
      ]
     },
     "metadata": {},
     "output_type": "display_data"
    }
   ],
   "source": [
    "def plot_hdl_obese():\n",
    "    \"\"\"\n",
    "    Returns a plot of estimated proportion for a specific group using a range\n",
    "    of HDL levels\n",
    "    \"\"\"\n",
    "    d = {0:\"Males\", 1:\"Females\"}\n",
    "    fig, ax = plt.subplots(1,2, figsize=(12,5))\n",
    "    coeff_quartiles = [0, 0.61, 0.82, 0.56]\n",
    "    age_range = [(18,30), (31,46), (46,62), (62,80)]\n",
    "    \n",
    "    for gender in [0, 1]: # males, females\n",
    "        for i in range(len(coeff_quartiles)):\n",
    "            y = []\n",
    "            for x in range(20, 121, 10):\n",
    "                odds = np.exp(0.792)*np.exp(0.796*gender)*np.exp(-0.045*x)*np.exp(coeff_quartiles[i])\n",
    "                prob = odds/(1+odds)\n",
    "                y.append(prob)\n",
    "            ax[gender].plot(range(20,121,10),y, label=age_range[i]);\n",
    "        ax[gender].set_xlabel(\"HDL (mg/dL)\")\n",
    "        ax[gender].set_ylabel(\"Proportion (probability) Being Obese\")\n",
    "        ax[gender].set_title(d[gender])\n",
    "        ax[gender].legend()\n",
    "\n",
    "plot_hdl_obese()"
   ]
  },
  {
   "cell_type": "markdown",
   "metadata": {},
   "source": [
    "- The estimated probability of obesity is lowest in the youngest age quartile.\n",
    "- Males have a lower probability of being obese, as compared to females, at comparable HDL levels.\n",
    "- The probability of obesity decreases with increasing HDL levels for both males and females."
   ]
  },
  {
   "cell_type": "markdown",
   "metadata": {},
   "source": [
    "**Estimate odds ratio of obesity for females with HDL of 75 mg/dL who are 65 years old, compared to males with HDL of 80 mg/dL who are 50 years old.**"
   ]
  },
  {
   "cell_type": "code",
   "execution_count": 42,
   "metadata": {},
   "outputs": [
    {
     "name": "stdout",
     "output_type": "stream",
     "text": [
      "Estimated odds ratio: 2.14\n"
     ]
    }
   ],
   "source": [
    "coeffs = np.array([0.792, 0.796, -0.045, 0.61, 0.82, 0.56])\n",
    "females = np.array([1, 1, 75, 0, 0, 1]) #intercept, gender, age, hdl, age_q2, age_q3, age_q4\n",
    "males = np.array([1, 0, 80, 0, 1, 0]) #intercept, gender, age, hdl, age_q2, age_q3, age_q4\n",
    "\n",
    "odds_ratio = np.exp(np.sum(coeffs * (females - males)))\n",
    "print(\"Estimated odds ratio:\", round(odds_ratio, 2))"
   ]
  },
  {
   "cell_type": "markdown",
   "metadata": {},
   "source": [
    "### 3. Multiple Cox Regression"
   ]
  },
  {
   "cell_type": "markdown",
   "metadata": {},
   "source": [
    "Multiple Cox regression is a tool that relates the hazard of a binary outcome occurring over time to multiple predictors $x_{1}, x_{2} ... x_{p}$ via a linear equation of the form: ln(hazard of outcome) = $ln(\\lambda(t, x_{1} - x_{p}))$ = $ln(\\hat \\lambda_{0}(t)) + \\hat \\beta_{1}x_{1} + \\hat \\beta_{2}x_{2} + ... + \\hat \\beta_{p}x_{p}$.  \n",
    "Generically speaking, each slope ̂$\\hat\\beta_{i}$, i = 1 to p is the estimated adjusted ln hazard ratio of the outcome for two groups who differ by one unit in $x_{i}$, adjusted for all other xs in the model."
   ]
  },
  {
   "cell_type": "markdown",
   "metadata": {},
   "source": [
    "data https://www4.stat.ncsu.edu/~boos/var.select/pbc.html  \n",
    "\n",
    "futime = (number of days between registration and the earlier of death, transplantion, or study analysis time in July, 1986)  \n",
    "status = (0=alive, 1=liver transplant, 2=dead)  \n",
    "drug = (1= D-penicillamine, 2=placebo)"
   ]
  },
  {
   "cell_type": "code",
   "execution_count": 57,
   "metadata": {},
   "outputs": [
    {
     "name": "stderr",
     "output_type": "stream",
     "text": [
      "C:\\Users\\Michael\\Anaconda3\\lib\\site-packages\\pandas\\io\\parsers.py:2455: FutureWarning: split() requires a non-empty pattern match.\n",
      "  yield pat.split(line.strip())\n",
      "C:\\Users\\Michael\\Anaconda3\\lib\\site-packages\\pandas\\io\\parsers.py:2458: FutureWarning: split() requires a non-empty pattern match.\n",
      "  yield pat.split(line.strip())\n"
     ]
    },
    {
     "data": {
      "text/html": [
       "<div>\n",
       "<style scoped>\n",
       "    .dataframe tbody tr th:only-of-type {\n",
       "        vertical-align: middle;\n",
       "    }\n",
       "\n",
       "    .dataframe tbody tr th {\n",
       "        vertical-align: top;\n",
       "    }\n",
       "\n",
       "    .dataframe thead th {\n",
       "        text-align: right;\n",
       "    }\n",
       "</style>\n",
       "<table border=\"1\" class=\"dataframe\">\n",
       "  <thead>\n",
       "    <tr style=\"text-align: right;\">\n",
       "      <th></th>\n",
       "      <th>id</th>\n",
       "      <th>futime</th>\n",
       "      <th>status</th>\n",
       "      <th>drug</th>\n",
       "      <th>age</th>\n",
       "      <th>sex</th>\n",
       "      <th>ascites</th>\n",
       "      <th>hepato</th>\n",
       "      <th>spiders</th>\n",
       "      <th>edema</th>\n",
       "      <th>bili</th>\n",
       "      <th>chol</th>\n",
       "      <th>albumin</th>\n",
       "      <th>copper</th>\n",
       "      <th>alk_phos</th>\n",
       "      <th>sgot</th>\n",
       "      <th>trig</th>\n",
       "      <th>platelet</th>\n",
       "      <th>protime</th>\n",
       "      <th>stage</th>\n",
       "    </tr>\n",
       "  </thead>\n",
       "  <tbody>\n",
       "    <tr>\n",
       "      <th>0</th>\n",
       "      <td>1</td>\n",
       "      <td>400</td>\n",
       "      <td>1</td>\n",
       "      <td>1</td>\n",
       "      <td>21464</td>\n",
       "      <td>1</td>\n",
       "      <td>1</td>\n",
       "      <td>1</td>\n",
       "      <td>1</td>\n",
       "      <td>1.0</td>\n",
       "      <td>14.5</td>\n",
       "      <td>261</td>\n",
       "      <td>2.60</td>\n",
       "      <td>156</td>\n",
       "      <td>1718.0</td>\n",
       "      <td>137.95</td>\n",
       "      <td>172</td>\n",
       "      <td>190</td>\n",
       "      <td>12.2</td>\n",
       "      <td>4</td>\n",
       "    </tr>\n",
       "    <tr>\n",
       "      <th>1</th>\n",
       "      <td>2</td>\n",
       "      <td>4500</td>\n",
       "      <td>0</td>\n",
       "      <td>1</td>\n",
       "      <td>20617</td>\n",
       "      <td>1</td>\n",
       "      <td>0</td>\n",
       "      <td>1</td>\n",
       "      <td>1</td>\n",
       "      <td>0.0</td>\n",
       "      <td>1.1</td>\n",
       "      <td>302</td>\n",
       "      <td>4.14</td>\n",
       "      <td>54</td>\n",
       "      <td>7394.8</td>\n",
       "      <td>113.52</td>\n",
       "      <td>88</td>\n",
       "      <td>221</td>\n",
       "      <td>10.6</td>\n",
       "      <td>3</td>\n",
       "    </tr>\n",
       "    <tr>\n",
       "      <th>2</th>\n",
       "      <td>3</td>\n",
       "      <td>1012</td>\n",
       "      <td>1</td>\n",
       "      <td>1</td>\n",
       "      <td>25594</td>\n",
       "      <td>0</td>\n",
       "      <td>0</td>\n",
       "      <td>0</td>\n",
       "      <td>0</td>\n",
       "      <td>0.5</td>\n",
       "      <td>1.4</td>\n",
       "      <td>176</td>\n",
       "      <td>3.48</td>\n",
       "      <td>210</td>\n",
       "      <td>516.0</td>\n",
       "      <td>96.10</td>\n",
       "      <td>55</td>\n",
       "      <td>151</td>\n",
       "      <td>12.0</td>\n",
       "      <td>4</td>\n",
       "    </tr>\n",
       "    <tr>\n",
       "      <th>3</th>\n",
       "      <td>4</td>\n",
       "      <td>1925</td>\n",
       "      <td>1</td>\n",
       "      <td>1</td>\n",
       "      <td>19994</td>\n",
       "      <td>1</td>\n",
       "      <td>0</td>\n",
       "      <td>1</td>\n",
       "      <td>1</td>\n",
       "      <td>0.5</td>\n",
       "      <td>1.8</td>\n",
       "      <td>244</td>\n",
       "      <td>2.54</td>\n",
       "      <td>64</td>\n",
       "      <td>6121.8</td>\n",
       "      <td>60.63</td>\n",
       "      <td>92</td>\n",
       "      <td>183</td>\n",
       "      <td>10.3</td>\n",
       "      <td>4</td>\n",
       "    </tr>\n",
       "    <tr>\n",
       "      <th>4</th>\n",
       "      <td>5</td>\n",
       "      <td>1504</td>\n",
       "      <td>0</td>\n",
       "      <td>0</td>\n",
       "      <td>13918</td>\n",
       "      <td>1</td>\n",
       "      <td>0</td>\n",
       "      <td>1</td>\n",
       "      <td>1</td>\n",
       "      <td>0.0</td>\n",
       "      <td>3.4</td>\n",
       "      <td>279</td>\n",
       "      <td>3.53</td>\n",
       "      <td>143</td>\n",
       "      <td>671.0</td>\n",
       "      <td>113.15</td>\n",
       "      <td>72</td>\n",
       "      <td>136</td>\n",
       "      <td>10.9</td>\n",
       "      <td>3</td>\n",
       "    </tr>\n",
       "  </tbody>\n",
       "</table>\n",
       "</div>"
      ],
      "text/plain": [
       "   id  futime  status  drug    age  sex ascites hepato spiders  edema  bili  \\\n",
       "0   1     400       1     1  21464    1       1      1       1    1.0  14.5   \n",
       "1   2    4500       0     1  20617    1       0      1       1    0.0   1.1   \n",
       "2   3    1012       1     1  25594    0       0      0       0    0.5   1.4   \n",
       "3   4    1925       1     1  19994    1       0      1       1    0.5   1.8   \n",
       "4   5    1504       0     0  13918    1       0      1       1    0.0   3.4   \n",
       "\n",
       "  chol  albumin copper alk_phos    sgot trig platelet protime stage  \n",
       "0  261     2.60    156   1718.0  137.95  172      190    12.2     4  \n",
       "1  302     4.14     54   7394.8  113.52   88      221    10.6     3  \n",
       "2  176     3.48    210    516.0   96.10   55      151    12.0     4  \n",
       "3  244     2.54     64   6121.8   60.63   92      183    10.3     4  \n",
       "4  279     3.53    143    671.0  113.15   72      136    10.9     3  "
      ]
     },
     "execution_count": 57,
     "metadata": {},
     "output_type": "execute_result"
    }
   ],
   "source": [
    "# Load and prepare data\n",
    "columns = ['id', 'futime', 'status', 'drug', 'age', 'sex', 'ascites', 'hepato', 'spiders',\n",
    "            'edema', 'bili', 'chol', 'albumin', 'copper', 'alk_phos', 'sgot', 'trig', 'platelet',\n",
    "            'protime', 'stage']\n",
    "df_pbc = pd.read_csv('data/pbc.txt', sep=r\"\\s*\", names=columns, engine='python')\n",
    "df_pbc['drug'].replace({'2':'0'}, inplace=True) # set placebo as reference (0)\n",
    "df_pbc = df_pbc[df_pbc['drug'] != '.'] # remove rows with missing data in 'drug' column\n",
    "df_pbc['drug'] = df_pbc['drug'].astype(int)\n",
    "df_pbc['status'].replace({1:0, 2:1}, inplace=True) # recode liver transplant as alive(0), dead as 1\n",
    "df_pbc.head()"
   ]
  },
  {
   "cell_type": "code",
   "execution_count": 51,
   "metadata": {},
   "outputs": [
    {
     "name": "stdout",
     "output_type": "stream",
     "text": [
      "Slope for treatment (ln(hazard ratio)): 0.057\n",
      "Hazard ratio for treatment: 1.06\n"
     ]
    }
   ],
   "source": [
    "from sksurv.linear_model import CoxPHSurvivalAnalysis\n",
    "from sksurv.util import Surv\n",
    "\n",
    "# construct structured array with \"Surv\"\n",
    "# https://scikit-survival.readthedocs.io/en/latest/generated/sksurv.util.Surv.html?highlight=surv\n",
    "data_y = Surv.from_dataframe('status', 'futime', df_pbc)\n",
    "cox = CoxPHSurvivalAnalysis()\n",
    "cox.fit(df_pbc[['drug']], data_y)\n",
    "print('Slope for treatment (ln(hazard ratio)):', round(float(cox.coef_),3))\n",
    "print('Hazard ratio for treatment:', round(float(np.exp(cox.coef_)),2))"
   ]
  },
  {
   "cell_type": "code",
   "execution_count": 52,
   "metadata": {},
   "outputs": [],
   "source": [
    "# Convert age from days to years\n",
    "df_pbc[\"age_years\"] = np.around(df_pbc[\"age\"]/365)\n",
    "# Add column with age quartiles\n",
    "df_pbc[\"age_q\"] = pd.qcut(df_pbc[\"age_years\"], q=4)"
   ]
  },
  {
   "cell_type": "markdown",
   "metadata": {},
   "source": [
    "Reminder: Proportional hazard regression models (“Cox models”) are a regression technique for censored data. They allow variation in the time to an event to be explained in terms of covariates, similar to what is done in a linear or generalized linear regression model. These models express the covariate effects in terms of “hazard ratios”, meaning the the hazard (instantaneous event rate) is multiplied by a given factor depending on the value of the covariates."
   ]
  },
  {
   "cell_type": "code",
   "execution_count": 53,
   "metadata": {},
   "outputs": [
    {
     "name": "stdout",
     "output_type": "stream",
     "text": [
      "                                          Results: PHReg\n",
      "===================================================================================================\n",
      "Model:                                  PH Reg                   Sample size:                   312\n",
      "Dependent variable:                     futime                   Num. events:                   125\n",
      "Ties:                                   Efron                                                      \n",
      "---------------------------------------------------------------------------------------------------\n",
      "                                               log HR log HR SE   HR      t    P>|t|  [0.025 0.975]\n",
      "---------------------------------------------------------------------------------------------------\n",
      "age_q[T.Interval(42.0, 50.0, closed='right')]  0.1146    0.3026 1.1215  0.3789 0.7048 0.6198 2.0293\n",
      "age_q[T.Interval(50.0, 57.0, closed='right')]  0.6091    0.2847 1.8387  2.1391 0.0324 1.0523 3.2128\n",
      "age_q[T.Interval(57.0, 78.0, closed='right')]  1.0911    0.2832 2.9776  3.8523 0.0001 1.7091 5.1875\n",
      "drug                                          -0.0556    0.1810 0.9460 -0.3069 0.7589 0.6634 1.3488\n",
      "sex                                           -0.3877    0.2410 0.6786 -1.6087 0.1077 0.4232 1.0883\n",
      "===================================================================================================\n",
      "Confidence intervals are for the hazard ratios\n"
     ]
    }
   ],
   "source": [
    "status = df_pbc[\"status\"].values\n",
    "mod = smf.phreg('futime ~ drug+age_q+sex', data=df_pbc, status=status, ties=\"efron\")\n",
    "rslt = mod.fit()\n",
    "print(rslt.summary())"
   ]
  },
  {
   "cell_type": "markdown",
   "metadata": {},
   "source": [
    "The resulting equation for the ln(hazard of death) = $ln(\\hat\\lambda_{0}(t)) - 0.057x_{1} + 0.115x_{2} + 0.609x_{3} + 1.09x_{4} - 0.0388x_{5}$ where $x_{1} = 1$ for the drug, zero for placebo, $x_{2}, x_{3}, x_{4} = 1$ for the respective age quartiles, zero otherwise, and $x_{5} = 1$ for female, zero for male."
   ]
  },
  {
   "cell_type": "code",
   "execution_count": 54,
   "metadata": {},
   "outputs": [
    {
     "data": {
      "image/png": "[encoded data removed]",
      "text/plain": [
       "<Figure size 432x288 with 1 Axes>"
      ]
     },
     "metadata": {},
     "output_type": "display_data"
    }
   ],
   "source": [
    "# Let's see what the distribution of the feature \"bili\" looks like\n",
    "plt.boxplot(df_pbc[\"bili\"]);"
   ]
  },
  {
   "cell_type": "code",
   "execution_count": 55,
   "metadata": {},
   "outputs": [],
   "source": [
    "# Add quartiles for bilirubin (mg/dL)\n",
    "df_pbc[\"bili_q\"] = pd.qcut(df_pbc[\"bili\"], q=4)"
   ]
  },
  {
   "cell_type": "code",
   "execution_count": 56,
   "metadata": {},
   "outputs": [
    {
     "name": "stdout",
     "output_type": "stream",
     "text": [
      "                                            Results: PHReg\n",
      "=======================================================================================================\n",
      "Model:                                  PH Reg                     Sample size:                     312\n",
      "Dependent variable:                     futime                     Num. events:                     125\n",
      "Ties:                                   Efron                                                          \n",
      "-------------------------------------------------------------------------------------------------------\n",
      "                                                 log HR log HR SE    HR      t    P>|t|  [0.025  0.975]\n",
      "-------------------------------------------------------------------------------------------------------\n",
      "age_q[T.Interval(42.0, 50.0, closed='right')]    0.3906    0.3030  1.4779  1.2893 0.1973 0.8161  2.6762\n",
      "age_q[T.Interval(50.0, 57.0, closed='right')]    1.0147    0.2898  2.7585  3.5017 0.0005 1.5632  4.8678\n",
      "age_q[T.Interval(57.0, 78.0, closed='right')]    1.2624    0.2890  3.5338  4.3682 0.0000 2.0056  6.2263\n",
      "bili_q[T.Interval(0.8, 1.35, closed='right')]    0.4442    0.3806  1.5593  1.1671 0.2432 0.7395  3.2878\n",
      "bili_q[T.Interval(1.35, 3.425, closed='right')]  1.5879    0.3155  4.8932  5.0327 0.0000 2.6365  9.0814\n",
      "bili_q[T.Interval(3.425, 28.0, closed='right')]  2.7201    0.3129 15.1812  8.6940 0.0000 8.2223 28.0297\n",
      "drug                                            -0.1996    0.1871  0.8191 -1.0664 0.2862 0.5676  1.1820\n",
      "sex                                              0.0902    0.2436  1.0944  0.3701 0.7113 0.6789  1.7642\n",
      "=======================================================================================================\n",
      "Confidence intervals are for the hazard ratios\n"
     ]
    }
   ],
   "source": [
    "status = df_pbc[\"status\"].values\n",
    "mod1 = smf.phreg('futime ~ drug+age_q+bili_q+sex', data=df_pbc, status=status, ties=\"efron\")\n",
    "rslt1 = mod1.fit()\n",
    "print(rslt1.summary())"
   ]
  },
  {
   "cell_type": "markdown",
   "metadata": {},
   "source": [
    "Note the attenuated hazard ratios for `drug` and `sex` as well as the different `age`-quartiles."
   ]
  },
  {
   "cell_type": "code",
   "execution_count": null,
   "metadata": {},
   "outputs": [],
   "source": []
  }
 ],
 "metadata": {
  "kernelspec": {
   "display_name": "Python 3",
   "language": "python",
   "name": "python3"
  },
  "language_info": {
   "codemirror_mode": {
    "name": "ipython",
    "version": 3
   },
   "file_extension": ".py",
   "mimetype": "text/x-python",
   "name": "python",
   "nbconvert_exporter": "python",
   "pygments_lexer": "ipython3",
   "version": "3.6.5"
  }
 },
 "nbformat": 4,
 "nbformat_minor": 4
}

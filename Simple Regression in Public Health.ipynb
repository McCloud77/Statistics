{
 "cells": [
  {
   "cell_type": "markdown",
   "metadata": {},
   "source": [
    "*Course: Simple Regression in Public Health  \n",
    "Institution: Johns Hopkins University  \n",
    "Presenter: John McGready*"
   ]
  },
  {
   "cell_type": "code",
   "execution_count": 1,
   "metadata": {},
   "outputs": [],
   "source": [
    "import pandas as pd\n",
    "import numpy as np\n",
    "import matplotlib.pyplot as plt\n",
    "%matplotlib inline"
   ]
  },
  {
   "cell_type": "code",
   "execution_count": 2,
   "metadata": {},
   "outputs": [],
   "source": [
    "import warnings\n",
    "warnings.filterwarnings('ignore')"
   ]
  },
  {
   "cell_type": "markdown",
   "metadata": {},
   "source": [
    "### 1. Overview of Simple Regression  \n",
    "\n",
    "The basic structure of these simple regression models is a linear equation: $f(y) = \\beta_{0} + \\beta_{1}x_{1}$ where $x_{1}$ is a predictor of interest.  \n",
    "\n",
    "For continuous outcomes, the left-hand side is the mean of the outcome $y$, and the regression type is linear regression.  \n",
    "\n",
    "For binary outcomes, the left-hand side is the ln(odds) of the binary outcome, i.e.: $\\frac{p}{1-p}$ where $p$ is the probability that $y = 1$ (proportion of $y$ values equal to 1) and the regression type is logistic regression.  \n",
    "\n",
    "For time-to-event outcomes where the individual event and censoring times **are not** known, $y$ is yes/no indicator of whether the event occurred in the common follow-up period; the left-hand side is $ln$(incidence rate), and the regression type is Poisson regression.  \n",
    "\n",
    "For time-to-event outcomes where the individual event and censoring times **are** known, $y$ is a composite outcome taking into account both the time and whether the event occurred. The left-hand side is $ln$(hazard rate), and the regression type is Cox regression."
   ]
  },
  {
   "cell_type": "markdown",
   "metadata": {},
   "source": [
    "#### Simple Linear Regression with a Categorical Predictor  \n",
    "\n",
    "Data: https://www.kaggle.com/devanshbesain/exploration-and-analysis-auto-mpg/data (retrieved April 20, 2020)"
   ]
  },
  {
   "cell_type": "code",
   "execution_count": 3,
   "metadata": {},
   "outputs": [
    {
     "data": {
      "text/html": [
       "<div>\n",
       "<style scoped>\n",
       "    .dataframe tbody tr th:only-of-type {\n",
       "        vertical-align: middle;\n",
       "    }\n",
       "\n",
       "    .dataframe tbody tr th {\n",
       "        vertical-align: top;\n",
       "    }\n",
       "\n",
       "    .dataframe thead th {\n",
       "        text-align: right;\n",
       "    }\n",
       "</style>\n",
       "<table border=\"1\" class=\"dataframe\">\n",
       "  <thead>\n",
       "    <tr style=\"text-align: right;\">\n",
       "      <th></th>\n",
       "      <th>mpg</th>\n",
       "      <th>cylinders</th>\n",
       "      <th>displacement</th>\n",
       "      <th>horsepower</th>\n",
       "      <th>weight</th>\n",
       "      <th>acceleration</th>\n",
       "      <th>model year</th>\n",
       "      <th>origin</th>\n",
       "      <th>car name</th>\n",
       "    </tr>\n",
       "  </thead>\n",
       "  <tbody>\n",
       "    <tr>\n",
       "      <th>0</th>\n",
       "      <td>18.0</td>\n",
       "      <td>8</td>\n",
       "      <td>307.0</td>\n",
       "      <td>130</td>\n",
       "      <td>3504</td>\n",
       "      <td>12.0</td>\n",
       "      <td>70</td>\n",
       "      <td>1</td>\n",
       "      <td>chevrolet chevelle malibu</td>\n",
       "    </tr>\n",
       "    <tr>\n",
       "      <th>1</th>\n",
       "      <td>15.0</td>\n",
       "      <td>8</td>\n",
       "      <td>350.0</td>\n",
       "      <td>165</td>\n",
       "      <td>3693</td>\n",
       "      <td>11.5</td>\n",
       "      <td>70</td>\n",
       "      <td>1</td>\n",
       "      <td>buick skylark 320</td>\n",
       "    </tr>\n",
       "    <tr>\n",
       "      <th>2</th>\n",
       "      <td>18.0</td>\n",
       "      <td>8</td>\n",
       "      <td>318.0</td>\n",
       "      <td>150</td>\n",
       "      <td>3436</td>\n",
       "      <td>11.0</td>\n",
       "      <td>70</td>\n",
       "      <td>1</td>\n",
       "      <td>plymouth satellite</td>\n",
       "    </tr>\n",
       "    <tr>\n",
       "      <th>3</th>\n",
       "      <td>16.0</td>\n",
       "      <td>8</td>\n",
       "      <td>304.0</td>\n",
       "      <td>150</td>\n",
       "      <td>3433</td>\n",
       "      <td>12.0</td>\n",
       "      <td>70</td>\n",
       "      <td>1</td>\n",
       "      <td>amc rebel sst</td>\n",
       "    </tr>\n",
       "    <tr>\n",
       "      <th>4</th>\n",
       "      <td>17.0</td>\n",
       "      <td>8</td>\n",
       "      <td>302.0</td>\n",
       "      <td>140</td>\n",
       "      <td>3449</td>\n",
       "      <td>10.5</td>\n",
       "      <td>70</td>\n",
       "      <td>1</td>\n",
       "      <td>ford torino</td>\n",
       "    </tr>\n",
       "  </tbody>\n",
       "</table>\n",
       "</div>"
      ],
      "text/plain": [
       "    mpg  cylinders  displacement horsepower  weight  acceleration  model year  \\\n",
       "0  18.0          8         307.0        130    3504          12.0          70   \n",
       "1  15.0          8         350.0        165    3693          11.5          70   \n",
       "2  18.0          8         318.0        150    3436          11.0          70   \n",
       "3  16.0          8         304.0        150    3433          12.0          70   \n",
       "4  17.0          8         302.0        140    3449          10.5          70   \n",
       "\n",
       "   origin                   car name  \n",
       "0       1  chevrolet chevelle malibu  \n",
       "1       1          buick skylark 320  \n",
       "2       1         plymouth satellite  \n",
       "3       1              amc rebel sst  \n",
       "4       1                ford torino  "
      ]
     },
     "execution_count": 3,
     "metadata": {},
     "output_type": "execute_result"
    }
   ],
   "source": [
    "df = pd.read_csv(\"data/auto-mpg.csv\")\n",
    "df.head()"
   ]
  },
  {
   "cell_type": "markdown",
   "metadata": {},
   "source": [
    "Here, we will treat `origin` as a categorical variable with three levels in order to show linear regression with a categorical feature. The outcome chosen is `mpg`."
   ]
  },
  {
   "cell_type": "code",
   "execution_count": 4,
   "metadata": {},
   "outputs": [],
   "source": [
    "from sklearn.linear_model import LinearRegression"
   ]
  },
  {
   "cell_type": "code",
   "execution_count": 5,
   "metadata": {},
   "outputs": [
    {
     "data": {
      "text/plain": [
       "1    249\n",
       "3     79\n",
       "2     70\n",
       "Name: origin, dtype: int64"
      ]
     },
     "execution_count": 5,
     "metadata": {},
     "output_type": "execute_result"
    }
   ],
   "source": [
    "# Number of categories and counts\n",
    "df['origin'].value_counts()"
   ]
  },
  {
   "cell_type": "code",
   "execution_count": 6,
   "metadata": {},
   "outputs": [
    {
     "name": "stdout",
     "output_type": "stream",
     "text": [
      "20.083534136546184 [ 7.80789443 10.36709877]\n"
     ]
    }
   ],
   "source": [
    "def lin_reg_cat(df, x_name, y_name):\n",
    "    \"\"\"\n",
    "    Assumes that x_name is a categorical feature\n",
    "    \"\"\"\n",
    "    df_copy = df.copy()\n",
    "    df_copy = pd.get_dummies(df_copy, columns=[x_name], drop_first=True)\n",
    "    \n",
    "    x_vars = []\n",
    "    for column in df_copy.columns:\n",
    "        if column.startswith(x_name):\n",
    "            x_vars.append(column)\n",
    "    lr = LinearRegression()\n",
    "    lr.fit(df_copy[x_vars], df_copy[y_name])\n",
    "    \n",
    "    return lr.intercept_, lr.coef_\n",
    "\n",
    "intercept, coef = lin_reg_cat(df, 'origin', 'mpg')\n",
    "print(intercept, coef)"
   ]
  },
  {
   "cell_type": "markdown",
   "metadata": {},
   "source": [
    "The intercept is the mean y value (`mpg`) for the reference group, i.e., origin = 1, and the two coefficients signify the difference for the other group(s) mean(s) compared to the mean from the reference group. Note that the equation for a linear regression with a categorical variable is given by:  \n",
    "\n",
    "$y = \\beta_{0} + \\beta_{1}*x_{1} + ... + \\beta_{k}*x_{k}$\n",
    "\n",
    "where $\\beta_{0}$ represents the sample mean for the reference group."
   ]
  },
  {
   "cell_type": "code",
   "execution_count": 7,
   "metadata": {},
   "outputs": [
    {
     "name": "stdout",
     "output_type": "stream",
     "text": [
      "Mean mpg for reference group 1: 20.083534136546184\n",
      "Mean mpg for reference group 2: 27.89142857142857\n",
      "Mean mpg for reference group 3: 30.450632911392404\n"
     ]
    }
   ],
   "source": [
    "print(\"Mean mpg for reference group 1:\", np.mean(df[df['origin']==1]['mpg']))\n",
    "print(\"Mean mpg for reference group 2:\", np.mean(df[df['origin']==2]['mpg']))\n",
    "print(\"Mean mpg for reference group 3:\", np.mean(df[df['origin']==3]['mpg']))"
   ]
  },
  {
   "cell_type": "code",
   "execution_count": 8,
   "metadata": {},
   "outputs": [
    {
     "data": {
      "image/png": "[encoded data removed]",
      "text/plain": [
       "<Figure size 432x288 with 1 Axes>"
      ]
     },
     "metadata": {
      "needs_background": "light"
     },
     "output_type": "display_data"
    }
   ],
   "source": [
    "plt.scatter(df['origin'], df['mpg'])\n",
    "plt.plot([1, 2, 3],[intercept, intercept+coef[0], intercept+coef[1]], 'r-');"
   ]
  },
  {
   "cell_type": "markdown",
   "metadata": {},
   "source": [
    "#### Simple Linear Regression with a Continuous Predictor  \n",
    "\n",
    "Data: http://mreed.umtri.umich.edu/mreed/downloads.html (retrieved April 22, 2020)"
   ]
  },
  {
   "cell_type": "code",
   "execution_count": 9,
   "metadata": {},
   "outputs": [
    {
     "name": "stdout",
     "output_type": "stream",
     "text": [
      "(4082, 108)\n"
     ]
    }
   ],
   "source": [
    "df = pd.read_csv(\"data/male_public.csv\", encoding = \"ISO-8859-1\")\n",
    "print(df.shape)"
   ]
  },
  {
   "cell_type": "markdown",
   "metadata": {},
   "source": [
    "In principle it is possible to categorize a continuous variable, e.g., based on quartiles, and compare the mean differences across the quartiles similar to the dichotomous approach with a categorical variable. However, this results in a significant loss of information and requires multiple summary measures to be compared with each other. Instead, we would like to associate a continuous outcome with a continuous predictor."
   ]
  },
  {
   "cell_type": "code",
   "execution_count": 10,
   "metadata": {},
   "outputs": [
    {
     "data": {
      "image/png": "[encoded data removed]",
      "text/plain": [
       "<Figure size 432x288 with 1 Axes>"
      ]
     },
     "metadata": {
      "needs_background": "light"
     },
     "output_type": "display_data"
    }
   ],
   "source": [
    "# Categorize neck circumference.\n",
    "df['neck_bins'] = pd.qcut(df['neckcircumference'], q=[0., 0.25, 0.5, 0.75, 1.], labels=False)\n",
    "df.boxplot(\"waistbreadth\", by=\"neck_bins\");"
   ]
  },
  {
   "cell_type": "code",
   "execution_count": 11,
   "metadata": {},
   "outputs": [
    {
     "name": "stdout",
     "output_type": "stream",
     "text": [
      "296.00979431929477 [20.88037909 38.65088432 62.4906954 ]\n"
     ]
    }
   ],
   "source": [
    "# Linear regression with binned neckcircumference (quartiles)\n",
    "intercept, coef = lin_reg_cat(df, 'neck_bins', 'waistbreadth')\n",
    "print(intercept, coef)"
   ]
  },
  {
   "cell_type": "code",
   "execution_count": 12,
   "metadata": {},
   "outputs": [
    {
     "name": "stdout",
     "output_type": "stream",
     "text": [
      "Mean waistbreadth for reference group 0: 296.01 ; from regression: 296.01\n",
      "Mean waistbreadth for reference group 1: 316.89 ; from regression: 316.89\n",
      "Mean waistbreadth for reference group 2: 334.661 ; from regression: 334.661\n",
      "Mean waistbreadth for reference group 3: 358.5 ; from regression: 358.5\n"
     ]
    }
   ],
   "source": [
    "def check_cat_reg(df, intercept, coef, acc=5):\n",
    "    \"\"\"\n",
    "    Compare mean group values with regression\n",
    "    with a specified accuracy\n",
    "    \"\"\"\n",
    "    \n",
    "    print(\"Mean waistbreadth for reference group 0:\", round(np.mean(df[df['neck_bins']==0]['waistbreadth']),acc),\\\n",
    "          \"; from regression:\", round(intercept,acc))\n",
    "    print(\"Mean waistbreadth for reference group 1:\", round(np.mean(df[df['neck_bins']==1]['waistbreadth']),acc),\\\n",
    "          \"; from regression:\", round(intercept+coef[0],acc))\n",
    "    print(\"Mean waistbreadth for reference group 2:\", round(np.mean(df[df['neck_bins']==2]['waistbreadth']),acc),\\\n",
    "          \"; from regression:\", round(intercept+coef[1],acc))\n",
    "    print(\"Mean waistbreadth for reference group 3:\", round(np.mean(df[df['neck_bins']==3]['waistbreadth']),acc),\\\n",
    "          \"; from regression:\", round(intercept+coef[2],acc))\n",
    "\n",
    "    \n",
    "check_cat_reg(df, intercept, coef, acc=3)"
   ]
  },
  {
   "cell_type": "code",
   "execution_count": 13,
   "metadata": {},
   "outputs": [
    {
     "data": {
      "image/png": "[encoded data removed]",
      "text/plain": [
       "<Figure size 360x360 with 1 Axes>"
      ]
     },
     "metadata": {
      "needs_background": "light"
     },
     "output_type": "display_data"
    }
   ],
   "source": [
    "# Use neckcircumference as a continuous measure\n",
    "plt.figure(figsize=(5,5))\n",
    "plt.scatter(df['neckcircumference'], df['waistbreadth'])\n",
    "plt.xlabel('Neck Circumference')\n",
    "plt.ylabel('Waist Breadth');"
   ]
  },
  {
   "cell_type": "code",
   "execution_count": 14,
   "metadata": {},
   "outputs": [
    {
     "name": "stdout",
     "output_type": "stream",
     "text": [
      "-45.31883900954347 [0.93488522]\n"
     ]
    }
   ],
   "source": [
    "def lin_reg_cont(df, x_name, y_name):\n",
    "    \"\"\"\n",
    "    Return intercept and coefficient of linear regression\n",
    "    \"\"\"\n",
    "    lr = LinearRegression()\n",
    "    lr.fit(df[[x_name]], df[y_name])\n",
    "    return lr.intercept_, lr.coef_\n",
    "\n",
    "intercept, coef = lin_reg_cont(df, 'neckcircumference', 'waistbreadth')\n",
    "print(intercept, coef)"
   ]
  },
  {
   "cell_type": "code",
   "execution_count": 15,
   "metadata": {},
   "outputs": [
    {
     "data": {
      "image/png": "[encoded data removed]",
      "text/plain": [
       "<Figure size 432x288 with 1 Axes>"
      ]
     },
     "metadata": {
      "needs_background": "light"
     },
     "output_type": "display_data"
    }
   ],
   "source": [
    "# Plot data with superimposed regression line\n",
    "plt.scatter(df['neckcircumference'], df['waistbreadth'])\n",
    "plt.plot([df['neckcircumference'].min(), df['neckcircumference'].max()],\n",
    "         [intercept+(coef*df['neckcircumference'].min()), intercept+(coef*df['neckcircumference'].max())], 'r')\n",
    "plt.xlabel('Neck Circumference')\n",
    "plt.ylabel('Waist Breadth');"
   ]
  },
  {
   "cell_type": "markdown",
   "metadata": {},
   "source": [
    "The results for the intercept and the coefficient can now be used to estimate the mean value for `waistbreadth` given a certain value for `neckcircumference` within the range of circumferences present in the sample. Estimates for `waistbreadth` using `neckcircumference` values that are lower than the minimum circumference or higher than the maximum circumference are not valid."
   ]
  },
  {
   "cell_type": "markdown",
   "metadata": {},
   "source": [
    "#### Estimating the Regression Equation: Accounting for Uncertainty in the Estimates  \n",
    "The coefficient of determination, denoted $R^{2}$ is the proportion of the variance in the dependent variable that is predictable from the independent variable(s)."
   ]
  },
  {
   "cell_type": "code",
   "execution_count": 16,
   "metadata": {},
   "outputs": [
    {
     "name": "stdout",
     "output_type": "stream",
     "text": [
      "0.4812396265295581\n"
     ]
    }
   ],
   "source": [
    "from sklearn.metrics import r2_score\n",
    "\n",
    "y_true = df['waistbreadth']\n",
    "y_pred = intercept + coef*df['neckcircumference']\n",
    "print(r2_score(y_true, y_pred))"
   ]
  },
  {
   "cell_type": "markdown",
   "metadata": {},
   "source": [
    "The Pearson correlation coefficient (r) is a statistic that measures linear correlation between two variables X and Y. It has a value between +1 and −1, where 1 is total positive linear correlation, 0 is no linear correlation, and −1 is total negative linear correlation. Note that the square of the correlation coefficient is equal to the coefficient of determination."
   ]
  },
  {
   "cell_type": "code",
   "execution_count": 17,
   "metadata": {},
   "outputs": [
    {
     "name": "stdout",
     "output_type": "stream",
     "text": [
      "Correlation coeeficient: 0.6937143695567781\n",
      "Coefficient of determination: 0.48123962652955815\n"
     ]
    }
   ],
   "source": [
    "from scipy.stats import pearsonr\n",
    "corr_coef = pearsonr(df['neckcircumference'], df['waistbreadth'])\n",
    "print(\"Correlation coeeficient:\", corr_coef[0])\n",
    "print(\"Coefficient of determination:\", np.square(corr_coef[0]))"
   ]
  },
  {
   "cell_type": "markdown",
   "metadata": {},
   "source": [
    "### 2. Simple Logistic Regression"
   ]
  },
  {
   "cell_type": "markdown",
   "metadata": {},
   "source": [
    "The logistic model (or logit model) is used to model the probability of a certain class or event existing such as pass/fail, win/lose, alive/dead or healthy/sick. This can be extended to model several classes of events such as determining whether an image contains a cat, dog, lion, etc. Each object being detected in the image would be assigned a probability between 0 and 1 and the sum adding to one.  \n",
    "\n",
    "The slope estimate(s), $\\beta_{1}$,from a simple logistic regression has a ln(odds ratio) interpretation, and can be exponentiated (anti-logged) to estimate an odds ratio comparing the odds that (the outcome) y=1 for two groups who differ by one-unit in $x_{1}$.  \n",
    "The intercept estimate, ̂$\\beta_{0}$, is the estimated ln(odds that y=1) when $x_{0}$ = 0."
   ]
  },
  {
   "cell_type": "markdown",
   "metadata": {},
   "source": [
    "#### Simple Logistic Regression with a Binary (or Categorical) Predictor  \n",
    "data: https://wwwn.cdc.gov/nchs/nhanes/Search/DataPage.aspx?Component=Examination&CycleBeginYear=2013 and https://wwwn.cdc.gov/nchs/nhanes/Search/DataPage.aspx?Component=Demographics&CycleBeginYear=2013"
   ]
  },
  {
   "cell_type": "code",
   "execution_count": 18,
   "metadata": {},
   "outputs": [],
   "source": [
    "import xport"
   ]
  },
  {
   "cell_type": "code",
   "execution_count": 19,
   "metadata": {},
   "outputs": [
    {
     "data": {
      "text/html": [
       "<div>\n",
       "<style scoped>\n",
       "    .dataframe tbody tr th:only-of-type {\n",
       "        vertical-align: middle;\n",
       "    }\n",
       "\n",
       "    .dataframe tbody tr th {\n",
       "        vertical-align: top;\n",
       "    }\n",
       "\n",
       "    .dataframe thead th {\n",
       "        text-align: right;\n",
       "    }\n",
       "</style>\n",
       "<table border=\"1\" class=\"dataframe\">\n",
       "  <thead>\n",
       "    <tr style=\"text-align: right;\">\n",
       "      <th></th>\n",
       "      <th>seqn</th>\n",
       "      <th>weight</th>\n",
       "      <th>height</th>\n",
       "      <th>bmi</th>\n",
       "    </tr>\n",
       "  </thead>\n",
       "  <tbody>\n",
       "    <tr>\n",
       "      <th>0</th>\n",
       "      <td>73557.0</td>\n",
       "      <td>78.3</td>\n",
       "      <td>171.3</td>\n",
       "      <td>26.7</td>\n",
       "    </tr>\n",
       "    <tr>\n",
       "      <th>1</th>\n",
       "      <td>73558.0</td>\n",
       "      <td>89.5</td>\n",
       "      <td>176.8</td>\n",
       "      <td>28.6</td>\n",
       "    </tr>\n",
       "    <tr>\n",
       "      <th>2</th>\n",
       "      <td>73559.0</td>\n",
       "      <td>88.9</td>\n",
       "      <td>175.3</td>\n",
       "      <td>28.9</td>\n",
       "    </tr>\n",
       "    <tr>\n",
       "      <th>3</th>\n",
       "      <td>73560.0</td>\n",
       "      <td>32.2</td>\n",
       "      <td>137.3</td>\n",
       "      <td>17.1</td>\n",
       "    </tr>\n",
       "    <tr>\n",
       "      <th>4</th>\n",
       "      <td>73561.0</td>\n",
       "      <td>52.0</td>\n",
       "      <td>162.4</td>\n",
       "      <td>19.7</td>\n",
       "    </tr>\n",
       "  </tbody>\n",
       "</table>\n",
       "</div>"
      ],
      "text/plain": [
       "      seqn  weight  height   bmi\n",
       "0  73557.0    78.3   171.3  26.7\n",
       "1  73558.0    89.5   176.8  28.6\n",
       "2  73559.0    88.9   175.3  28.9\n",
       "3  73560.0    32.2   137.3  17.1\n",
       "4  73561.0    52.0   162.4  19.7"
      ]
     },
     "execution_count": 19,
     "metadata": {},
     "output_type": "execute_result"
    }
   ],
   "source": [
    "lines = []\n",
    "with open('data/NHANES_Examination_Data_2013_2014.XPT', 'rb') as f:\n",
    "    for row in xport.Reader(f):\n",
    "        lines.append(row)\n",
    "\n",
    "columns = ['seqn', 'weight', 'height', 'bmi']\n",
    "df_nhanes_exam = pd.DataFrame(np.array(lines)[:, [0,2,8,10]], columns=columns)\n",
    "df_nhanes_exam.head()"
   ]
  },
  {
   "cell_type": "code",
   "execution_count": 20,
   "metadata": {},
   "outputs": [
    {
     "data": {
      "text/html": [
       "<div>\n",
       "<style scoped>\n",
       "    .dataframe tbody tr th:only-of-type {\n",
       "        vertical-align: middle;\n",
       "    }\n",
       "\n",
       "    .dataframe tbody tr th {\n",
       "        vertical-align: top;\n",
       "    }\n",
       "\n",
       "    .dataframe thead th {\n",
       "        text-align: right;\n",
       "    }\n",
       "</style>\n",
       "<table border=\"1\" class=\"dataframe\">\n",
       "  <thead>\n",
       "    <tr style=\"text-align: right;\">\n",
       "      <th></th>\n",
       "      <th>seqn</th>\n",
       "      <th>gender</th>\n",
       "      <th>age</th>\n",
       "      <th>race</th>\n",
       "    </tr>\n",
       "  </thead>\n",
       "  <tbody>\n",
       "    <tr>\n",
       "      <th>0</th>\n",
       "      <td>73557.0</td>\n",
       "      <td>1.0</td>\n",
       "      <td>69.0</td>\n",
       "      <td>4.0</td>\n",
       "    </tr>\n",
       "    <tr>\n",
       "      <th>1</th>\n",
       "      <td>73558.0</td>\n",
       "      <td>1.0</td>\n",
       "      <td>54.0</td>\n",
       "      <td>3.0</td>\n",
       "    </tr>\n",
       "    <tr>\n",
       "      <th>2</th>\n",
       "      <td>73559.0</td>\n",
       "      <td>1.0</td>\n",
       "      <td>72.0</td>\n",
       "      <td>3.0</td>\n",
       "    </tr>\n",
       "    <tr>\n",
       "      <th>3</th>\n",
       "      <td>73560.0</td>\n",
       "      <td>1.0</td>\n",
       "      <td>9.0</td>\n",
       "      <td>3.0</td>\n",
       "    </tr>\n",
       "    <tr>\n",
       "      <th>4</th>\n",
       "      <td>73561.0</td>\n",
       "      <td>2.0</td>\n",
       "      <td>73.0</td>\n",
       "      <td>3.0</td>\n",
       "    </tr>\n",
       "  </tbody>\n",
       "</table>\n",
       "</div>"
      ],
      "text/plain": [
       "      seqn  gender   age  race\n",
       "0  73557.0     1.0  69.0   4.0\n",
       "1  73558.0     1.0  54.0   3.0\n",
       "2  73559.0     1.0  72.0   3.0\n",
       "3  73560.0     1.0   9.0   3.0\n",
       "4  73561.0     2.0  73.0   3.0"
      ]
     },
     "execution_count": 20,
     "metadata": {},
     "output_type": "execute_result"
    }
   ],
   "source": [
    "lines = []\n",
    "with open('data/NHANES_Demographic_Data_2013_2014.XPT', 'rb') as f:\n",
    "    for row in xport.Reader(f):\n",
    "        lines.append(row)\n",
    "        \n",
    "columns = ['seqn', 'gender', 'age', 'race']\n",
    "df_nhanes_demo = pd.DataFrame(np.array(lines)[:, [0,3,4,7]], columns=columns)\n",
    "df_nhanes_demo.head()"
   ]
  },
  {
   "cell_type": "code",
   "execution_count": 21,
   "metadata": {},
   "outputs": [
    {
     "data": {
      "text/html": [
       "<div>\n",
       "<style scoped>\n",
       "    .dataframe tbody tr th:only-of-type {\n",
       "        vertical-align: middle;\n",
       "    }\n",
       "\n",
       "    .dataframe tbody tr th {\n",
       "        vertical-align: top;\n",
       "    }\n",
       "\n",
       "    .dataframe thead th {\n",
       "        text-align: right;\n",
       "    }\n",
       "</style>\n",
       "<table border=\"1\" class=\"dataframe\">\n",
       "  <thead>\n",
       "    <tr style=\"text-align: right;\">\n",
       "      <th></th>\n",
       "      <th>gender</th>\n",
       "      <th>age</th>\n",
       "      <th>race</th>\n",
       "      <th>weight</th>\n",
       "      <th>height</th>\n",
       "      <th>bmi</th>\n",
       "      <th>obese</th>\n",
       "    </tr>\n",
       "    <tr>\n",
       "      <th>seqn</th>\n",
       "      <th></th>\n",
       "      <th></th>\n",
       "      <th></th>\n",
       "      <th></th>\n",
       "      <th></th>\n",
       "      <th></th>\n",
       "      <th></th>\n",
       "    </tr>\n",
       "  </thead>\n",
       "  <tbody>\n",
       "    <tr>\n",
       "      <th>73557.0</th>\n",
       "      <td>male</td>\n",
       "      <td>69.0</td>\n",
       "      <td>black</td>\n",
       "      <td>78.3</td>\n",
       "      <td>171.3</td>\n",
       "      <td>26.7</td>\n",
       "      <td>0</td>\n",
       "    </tr>\n",
       "    <tr>\n",
       "      <th>73558.0</th>\n",
       "      <td>male</td>\n",
       "      <td>54.0</td>\n",
       "      <td>white</td>\n",
       "      <td>89.5</td>\n",
       "      <td>176.8</td>\n",
       "      <td>28.6</td>\n",
       "      <td>0</td>\n",
       "    </tr>\n",
       "    <tr>\n",
       "      <th>73559.0</th>\n",
       "      <td>male</td>\n",
       "      <td>72.0</td>\n",
       "      <td>white</td>\n",
       "      <td>88.9</td>\n",
       "      <td>175.3</td>\n",
       "      <td>28.9</td>\n",
       "      <td>0</td>\n",
       "    </tr>\n",
       "    <tr>\n",
       "      <th>73560.0</th>\n",
       "      <td>male</td>\n",
       "      <td>9.0</td>\n",
       "      <td>white</td>\n",
       "      <td>32.2</td>\n",
       "      <td>137.3</td>\n",
       "      <td>17.1</td>\n",
       "      <td>0</td>\n",
       "    </tr>\n",
       "    <tr>\n",
       "      <th>73561.0</th>\n",
       "      <td>female</td>\n",
       "      <td>73.0</td>\n",
       "      <td>white</td>\n",
       "      <td>52.0</td>\n",
       "      <td>162.4</td>\n",
       "      <td>19.7</td>\n",
       "      <td>0</td>\n",
       "    </tr>\n",
       "  </tbody>\n",
       "</table>\n",
       "</div>"
      ],
      "text/plain": [
       "         gender   age   race  weight  height   bmi  obese\n",
       "seqn                                                     \n",
       "73557.0    male  69.0  black    78.3   171.3  26.7      0\n",
       "73558.0    male  54.0  white    89.5   176.8  28.6      0\n",
       "73559.0    male  72.0  white    88.9   175.3  28.9      0\n",
       "73560.0    male   9.0  white    32.2   137.3  17.1      0\n",
       "73561.0  female  73.0  white    52.0   162.4  19.7      0"
      ]
     },
     "execution_count": 21,
     "metadata": {},
     "output_type": "execute_result"
    }
   ],
   "source": [
    "df_nhanes = df_nhanes_demo.set_index('seqn').join(df_nhanes_exam.set_index('seqn'), on='seqn', how='inner')\n",
    "df_nhanes['gender'].replace({1:'male',\n",
    "                             2:'female'}, inplace=True)\n",
    "df_nhanes['race'].replace({1:'mexican_american',\n",
    "                           2:'other_hispanic',\n",
    "                           3:'white',\n",
    "                           4:'black',\n",
    "                           6:'asian',\n",
    "                           7:'other'}, inplace=True)\n",
    "df_nhanes['obese'] = df_nhanes['bmi'].apply(lambda x: 1 if x >= 30 else 0)\n",
    "df_nhanes.head()"
   ]
  },
  {
   "cell_type": "code",
   "execution_count": 22,
   "metadata": {},
   "outputs": [
    {
     "name": "stdout",
     "output_type": "stream",
     "text": [
      "The odds ratio for obesity for females compared to males is: 1.47\n"
     ]
    }
   ],
   "source": [
    "def prop_obese(df, by='gender'):\n",
    "    \"\"\"\n",
    "    Returns percentages of males and females that are obese or not\n",
    "    \"\"\"\n",
    "    total = df.shape[0]\n",
    "    res = df.groupby([by, 'obese'])['age'].count()\n",
    "    p_f_o = res['female'][1] / res['female'].sum()\n",
    "    p_m_o = res['male'][1] / res['male'].sum()\n",
    "    p_f_no = res['female'][0] / res['female'].sum()\n",
    "    p_m_no = res['male'][0] / res['male'].sum()\n",
    "    return p_f_o, p_f_no, p_m_o, p_m_no\n",
    "\n",
    "p_f_o, p_f_no, p_m_o, p_m_no = prop_obese(df_nhanes)\n",
    "print(\"The odds ratio for obesity for females compared to males is:\", round((p_f_o/p_f_no)/(p_m_o/p_m_no),2))"
   ]
  },
  {
   "cell_type": "code",
   "execution_count": 23,
   "metadata": {},
   "outputs": [],
   "source": [
    "from sklearn.linear_model import LogisticRegression"
   ]
  },
  {
   "cell_type": "code",
   "execution_count": 24,
   "metadata": {},
   "outputs": [
    {
     "name": "stdout",
     "output_type": "stream",
     "text": [
      "Intercept: [-1.3603865]  and beta1: [[0.3814703]]\n",
      "The ln(odds) ratio is: [[1.46443617]]\n"
     ]
    }
   ],
   "source": [
    "def log_reg(df, x, y):\n",
    "    \"\"\"\n",
    "    Returns parameters from a logistic regression using a binary predictor (x)\n",
    "    \"\"\"\n",
    "    df_copy = df.copy()\n",
    "    df_copy.replace({'female':1, 'male':0}, inplace=True)\n",
    "    \n",
    "    clf = LogisticRegression().fit(df_copy[[x]], df_copy[y])\n",
    "    \n",
    "    return clf.intercept_, clf.coef_\n",
    "    \n",
    "intercept, coef = log_reg(df_nhanes, 'gender', 'obese')\n",
    "print(\"Intercept:\", intercept, \" and beta1:\", coef)\n",
    "print(\"The ln(odds) ratio is:\", np.exp(coef))"
   ]
  },
  {
   "cell_type": "markdown",
   "metadata": {},
   "source": [
    "From the results above, we can see that the ln(odds of obesity) = $-1.36 + 0.38 * x_{1}$ where $x_{1}$ is 1 for females, 0 for males. The difference in $x{1}$ can only be 1 in this case of course. Recall that a difference in ln(odds) can be re-expressed as the ln of the odds ratio so the odds ratio $OR$ is equal to $e^{\\beta_{1}}$ or $e^{0.38}$. Compare the odds ratio for obesity in females as compared to males as calculated from exponiating $\\beta_{1}$ to that obtained by calculating the odds ratio from the odds for females and males (see results from `prop_obese`)."
   ]
  },
  {
   "cell_type": "code",
   "execution_count": 25,
   "metadata": {},
   "outputs": [
    {
     "name": "stdout",
     "output_type": "stream",
     "text": [
      "Odds for obesity in males: [0.26]\n",
      "Odds for obesity in females: [[1.46]]\n"
     ]
    }
   ],
   "source": [
    "# In summary\n",
    "print(\"Odds for obesity in males:\", np.round(np.exp(intercept), 2))\n",
    "print(\"Odds for obesity in females:\", np.round(np.exp(coef), 2))"
   ]
  },
  {
   "cell_type": "markdown",
   "metadata": {},
   "source": [
    "We can perform logistic regression with multiple predictors as well. "
   ]
  },
  {
   "cell_type": "code",
   "execution_count": 26,
   "metadata": {},
   "outputs": [],
   "source": [
    "def log_reg_mult(df, x, y):\n",
    "    \"\"\"\n",
    "    Return coeffients for a logistic regression with more than\n",
    "    one predictor\n",
    "    \"\"\"\n",
    "    df_copy = df.copy()\n",
    "    df_copy.dropna(axis=0, inplace=True)\n",
    "    \n",
    "    df_copy['race'].replace({'mexican_american':1,\n",
    "                              'other_hispanic':2,\n",
    "                              'white':3,\n",
    "                              'black':4,\n",
    "                              'asian':5,\n",
    "                              'other':6}, inplace=True)\n",
    "    df_copy = pd.get_dummies(df_copy, columns=['race'], drop_first=True)\n",
    "    \n",
    "    x_vars = []\n",
    "    for column in df_copy.columns:\n",
    "        if column.startswith('race'):\n",
    "            x_vars.append(column)\n",
    "    \n",
    "    x = df_copy.loc[:, x_vars].values\n",
    "    y = df_copy.loc[:, y].values.ravel()\n",
    "    \n",
    "    lr = LogisticRegression()\n",
    "    lr.fit(x,y)\n",
    "    # Return x, y for use in statsmodels\n",
    "    return x, y, lr.intercept_, lr.coef_\n",
    "    \n",
    "x, y, intercept, coefficients = log_reg_mult(df_nhanes, 'race', 'obese')"
   ]
  },
  {
   "cell_type": "markdown",
   "metadata": {},
   "source": [
    "The intercept represents the ln(odds of obesity) for the reference group while the coefficients represent the ln(odds of obesity for the other groups. Here, the reference group is Mexican American."
   ]
  },
  {
   "cell_type": "code",
   "execution_count": 27,
   "metadata": {},
   "outputs": [
    {
     "name": "stdout",
     "output_type": "stream",
     "text": [
      "Odds of obesisty for reference group (1): [0.37]\n",
      "Odds of obesity in group 2: 0.87\n",
      "Odds of obesity in group 3: 1.09\n",
      "Odds of obesity in group 4: 1.13\n",
      "Odds of obesity in group 5: 0.27\n",
      "Odds of obesity in group 6: 0.74\n"
     ]
    }
   ],
   "source": [
    "print(\"Odds of obesisty for reference group (1):\", np.round(np.exp(intercept),2))\n",
    "for i in range(len(coefficients[0])):\n",
    "    print(\"Odds of obesity in group \" +str(i+2) + \":\", np.round(np.exp(coefficients[0][i]),2))"
   ]
  },
  {
   "cell_type": "markdown",
   "metadata": {},
   "source": [
    "#### Simple Logistic Regression: Accounting for Uncertainty in the Estimates  \n",
    "We will be using statsmodels because it gives us access to standard error and *P* values immediately."
   ]
  },
  {
   "cell_type": "code",
   "execution_count": 28,
   "metadata": {},
   "outputs": [],
   "source": [
    "import statsmodels.api as sm\n",
    "from statsmodels.formula.api import logit"
   ]
  },
  {
   "cell_type": "code",
   "execution_count": 29,
   "metadata": {},
   "outputs": [
    {
     "name": "stdout",
     "output_type": "stream",
     "text": [
      "Optimization terminated successfully.\n",
      "         Current function value: 0.546834\n",
      "         Iterations 5\n"
     ]
    },
    {
     "data": {
      "text/html": [
       "<table class=\"simpletable\">\n",
       "<caption>Logit Regression Results</caption>\n",
       "<tr>\n",
       "  <th>Dep. Variable:</th>         <td>obese</td>      <th>  No. Observations:  </th>  <td>  9813</td>  \n",
       "</tr>\n",
       "<tr>\n",
       "  <th>Model:</th>                 <td>Logit</td>      <th>  Df Residuals:      </th>  <td>  9811</td>  \n",
       "</tr>\n",
       "<tr>\n",
       "  <th>Method:</th>                 <td>MLE</td>       <th>  Df Model:          </th>  <td>     1</td>  \n",
       "</tr>\n",
       "<tr>\n",
       "  <th>Date:</th>            <td>Sat, 09 May 2020</td> <th>  Pseudo R-squ.:     </th> <td>0.005981</td> \n",
       "</tr>\n",
       "<tr>\n",
       "  <th>Time:</th>                <td>10:46:58</td>     <th>  Log-Likelihood:    </th> <td> -5366.1</td> \n",
       "</tr>\n",
       "<tr>\n",
       "  <th>converged:</th>             <td>True</td>       <th>  LL-Null:           </th> <td> -5398.4</td> \n",
       "</tr>\n",
       "<tr>\n",
       "  <th>Covariance Type:</th>     <td>nonrobust</td>    <th>  LLR p-value:       </th> <td>9.305e-16</td>\n",
       "</tr>\n",
       "</table>\n",
       "<table class=\"simpletable\">\n",
       "<tr>\n",
       "         <td></td>           <th>coef</th>     <th>std err</th>      <th>z</th>      <th>P>|z|</th>  <th>[0.025</th>    <th>0.975]</th>  \n",
       "</tr>\n",
       "<tr>\n",
       "  <th>Intercept</th>      <td>   -0.9785</td> <td>    0.032</td> <td>  -30.776</td> <td> 0.000</td> <td>   -1.041</td> <td>   -0.916</td>\n",
       "</tr>\n",
       "<tr>\n",
       "  <th>gender[T.male]</th> <td>   -0.3823</td> <td>    0.048</td> <td>   -7.998</td> <td> 0.000</td> <td>   -0.476</td> <td>   -0.289</td>\n",
       "</tr>\n",
       "</table>"
      ],
      "text/plain": [
       "<class 'statsmodels.iolib.summary.Summary'>\n",
       "\"\"\"\n",
       "                           Logit Regression Results                           \n",
       "==============================================================================\n",
       "Dep. Variable:                  obese   No. Observations:                 9813\n",
       "Model:                          Logit   Df Residuals:                     9811\n",
       "Method:                           MLE   Df Model:                            1\n",
       "Date:                Sat, 09 May 2020   Pseudo R-squ.:                0.005981\n",
       "Time:                        10:46:58   Log-Likelihood:                -5366.1\n",
       "converged:                       True   LL-Null:                       -5398.4\n",
       "Covariance Type:            nonrobust   LLR p-value:                 9.305e-16\n",
       "==================================================================================\n",
       "                     coef    std err          z      P>|z|      [0.025      0.975]\n",
       "----------------------------------------------------------------------------------\n",
       "Intercept         -0.9785      0.032    -30.776      0.000      -1.041      -0.916\n",
       "gender[T.male]    -0.3823      0.048     -7.998      0.000      -0.476      -0.289\n",
       "==================================================================================\n",
       "\"\"\""
      ]
     },
     "execution_count": 29,
     "metadata": {},
     "output_type": "execute_result"
    }
   ],
   "source": [
    "f = 'obese ~ gender'\n",
    "logitfit = logit(formula = str(f), data = df_nhanes).fit()\n",
    "logitfit.summary()"
   ]
  },
  {
   "cell_type": "markdown",
   "metadata": {},
   "source": [
    "Based on the summary, the ln(odds of obesity for males is (-0.9785 - 0.3823) or -1.3608 which, when exponentiated gives us an odds of 0.26, identical to the results obtained using sklearn's `LogisticRegression` (as expected). The ln(odds of obesity) for females = -0.9785 which, after exponentiation, yields and odds of 0.3759. Calculating the odds ratio $OR$ for females compared to males yields 1.46 which, again, is identical to the odds ratio calculated using `LogisticRegression`.   \n",
    "\n",
    "The advantage using statsmodel's `logit` is that it returns the standard errors for the intercept and coefficient(s) which allows us to construct 95% confidence intervals (CI).  \n",
    "\n",
    "For example, the 95% CI for the ln(odds of obesity) for females is $(-0.9785 - 2*0.032, -0.9785 + 2*0.032)$ or $(-1.04, -0.91)$. Because this interval does not contain the `null` value for slopes, 0, the ln(odds) is significant.  \n",
    "\n",
    "Similarly, we can find the CI for the odds, after exponentiating. For females, the calculated odds is 0.3759 and the associated 95% CI is $(0.35, 0.40)$ which does not include the `null` value for ratios, 1, and hence we conclude again that the odds ratio is significant."
   ]
  },
  {
   "cell_type": "markdown",
   "metadata": {},
   "source": [
    "#### Estimating Risk and Functions of Risk from Logistic Regression Results"
   ]
  },
  {
   "cell_type": "markdown",
   "metadata": {},
   "source": [
    "Suppose that the ln(odds of response) for a given treatment is given by $-1.67 + 0.58*x_{1}$ where $x_{1} = 1$ for baseline CD4 < 250 and 0 for subjects with baseline CD4 >= 250. In addition, assume that the SE for $\\beta_{0} = 0.12$ and the SE for $\\beta_{1} = 0.16$.  \n",
    "Given a slope and standard error (SE), the function `log_reg_ci` calculates the 95% confiddence intervals (CI) for the ln(odds) and odds."
   ]
  },
  {
   "cell_type": "code",
   "execution_count": 30,
   "metadata": {},
   "outputs": [
    {
     "name": "stdout",
     "output_type": "stream",
     "text": [
      "(array([0.26, 0.9 ]), array([1.29693009, 2.45960311]))\n",
      "(array([-0.038, -0.03 ]), array([0.96271294, 0.97044553]))\n"
     ]
    }
   ],
   "source": [
    "def log_reg_ci(slope, se):\n",
    "    \n",
    "    ci_ln_odds = np.array((slope - 2*se, slope + 2*se))\n",
    "    ci_odds = np.exp(ci_ln_odds)\n",
    "    prob = np.exp(slope)/(1+np.exp(slope))\n",
    "    \n",
    "    return ci_ln_odds, ci_odds\n",
    "\n",
    "print(log_reg_ci(0.58, 0.16))\n",
    "print(log_reg_ci(-0.034, 0.002))"
   ]
  },
  {
   "cell_type": "markdown",
   "metadata": {},
   "source": [
    "#### Relationship Between Odds and Probability:  \n",
    "\n",
    "The estimated odds for a single group is $\\frac{\\hat{p}}{1 - \\hat{p}}$.  \n",
    "\n",
    "From here we can calculate $\\hat{p}$ as $\\frac{odds}{1 + odds}$ or $\\frac{e^{ln(odds)}}{1 + e^{ln(odds)}}$.  \n",
    "\n",
    "Suppose the ln(odds of respiratory failure) in different groups is given by $-5.5 + 3.4*x_{1} + 2.8*x_{2} +2.0*x_{3}$"
   ]
  },
  {
   "cell_type": "code",
   "execution_count": 31,
   "metadata": {},
   "outputs": [
    {
     "name": "stdout",
     "output_type": "stream",
     "text": [
      "0.004\n"
     ]
    }
   ],
   "source": [
    "# Estimated risk (probability, proportion) of repiratory failure in the reference group:\n",
    "est_odds = np.exp(-5.5)\n",
    "est_risk = est_odds / (1 + est_odds)\n",
    "print(round(est_risk, 3))"
   ]
  },
  {
   "cell_type": "markdown",
   "metadata": {},
   "source": [
    "Based on the results of the model what is the odds ratio of respiratory failure for children with gestational age of 36 (group 3) weeks compared to children with gestational age of 34 weeks (group 2)?"
   ]
  },
  {
   "cell_type": "code",
   "execution_count": 32,
   "metadata": {},
   "outputs": [
    {
     "name": "stdout",
     "output_type": "stream",
     "text": [
      "Odds ratio: 0.25\n"
     ]
    }
   ],
   "source": [
    "est_odds_36 = np.exp(-5.5 + 2.0)\n",
    "est_odds_34 = np.exp(-5.5 + 3.4)\n",
    "odds_ratio = est_odds_36 / est_odds_34\n",
    "print(\"Odds ratio:\", round(odds_ratio, 2))"
   ]
  },
  {
   "cell_type": "markdown",
   "metadata": {},
   "source": [
    "The odds ratio can also be computed when the predictor variable is continuous. If the odds of being obese based on the HDL level is given by ln(odds of obesity) = $1.20 - 0.034*x_{1}$, we can calculate the ln(odds ratio) for two groups as follows:"
   ]
  },
  {
   "cell_type": "code",
   "execution_count": 33,
   "metadata": {},
   "outputs": [
    {
     "name": "stdout",
     "output_type": "stream",
     "text": [
      "Odds ratio: 0.51\n",
      "Odds ratio: 0.51\n"
     ]
    }
   ],
   "source": [
    "est_odds_100 = np.exp(1.20 - 0.034*100)\n",
    "est_odds_80 = np.exp(1.20 - 0.034*80)\n",
    "print(\"Odds ratio:\", round(est_odds_100 / est_odds_80, 2))\n",
    "# alternatively\n",
    "print(\"Odds ratio:\", round(np.exp(-0.034*20), 2)) # since 100-80 = 20"
   ]
  },
  {
   "cell_type": "markdown",
   "metadata": {},
   "source": [
    "### 3. Simple Cox Regression  \n",
    "The purpose of the model is to evaluate simultaneously the effect of several factors on survival. In other words, it allows us to examine how specified factors influence the rate of a particular event happening (e.g., infection, death) at a particular point in time. This rate is commonly referred as the hazard rate. Predictor variables (or factors) are usually termed covariates in the survival-analysis literature.  \n",
    "Cox regression models the natural ln(hazard) of a binary outcome `y` as a function of a predictor $x_{1}$, and the follow-up time `t` where $x_{1}$ can be binary, nominal categorical or continuous.  \n",
    "The regression equation can be written as:  \n",
    "\n",
    "$ln(\\lambda(x_{1},t) = ln(\\hat\\lambda_{0}(t)) + \\hat\\beta_{1}x_{1}$ where $\\lambda(x_{1},t)$ = (hazard of y = 1) and $\\beta_{1}$ is the change in the ln(hazard that y = 1) for a one-unit change in $x_{1}$ at any time in the follow-up period.  \n",
    "\n",
    "The difference in ln(hazard) between two groups who differ by one unit of $x_{1}$ is the same regardless of the time of comparison."
   ]
  },
  {
   "cell_type": "markdown",
   "metadata": {},
   "source": [
    "#### Simple Cox Regression with a Binary (or Categorical) Predictor\n",
    "\n",
    "data https://www4.stat.ncsu.edu/~boos/var.select/pbc.html  \n",
    "\n",
    "futime = (number of days between registration and the earlier of death, transplantion, or study analysis time in July, 1986)  \n",
    "status = (0=alive, 1=liver transplant, 2=dead)  \n",
    "drug = (1= D-penicillamine, 2=placebo)"
   ]
  },
  {
   "cell_type": "code",
   "execution_count": 34,
   "metadata": {},
   "outputs": [
    {
     "data": {
      "text/html": [
       "<div>\n",
       "<style scoped>\n",
       "    .dataframe tbody tr th:only-of-type {\n",
       "        vertical-align: middle;\n",
       "    }\n",
       "\n",
       "    .dataframe tbody tr th {\n",
       "        vertical-align: top;\n",
       "    }\n",
       "\n",
       "    .dataframe thead th {\n",
       "        text-align: right;\n",
       "    }\n",
       "</style>\n",
       "<table border=\"1\" class=\"dataframe\">\n",
       "  <thead>\n",
       "    <tr style=\"text-align: right;\">\n",
       "      <th></th>\n",
       "      <th>id</th>\n",
       "      <th>futime</th>\n",
       "      <th>status</th>\n",
       "      <th>drug</th>\n",
       "      <th>age</th>\n",
       "      <th>sex</th>\n",
       "      <th>ascites</th>\n",
       "      <th>hepato</th>\n",
       "      <th>spiders</th>\n",
       "      <th>edema</th>\n",
       "      <th>bili</th>\n",
       "      <th>chol</th>\n",
       "      <th>albumin</th>\n",
       "      <th>copper</th>\n",
       "      <th>alk_phos</th>\n",
       "      <th>sgot</th>\n",
       "      <th>trig</th>\n",
       "      <th>platelet</th>\n",
       "      <th>protime</th>\n",
       "      <th>stage</th>\n",
       "    </tr>\n",
       "  </thead>\n",
       "  <tbody>\n",
       "    <tr>\n",
       "      <th>0</th>\n",
       "      <td>1</td>\n",
       "      <td>400</td>\n",
       "      <td>1</td>\n",
       "      <td>1</td>\n",
       "      <td>21464</td>\n",
       "      <td>1</td>\n",
       "      <td>1</td>\n",
       "      <td>1</td>\n",
       "      <td>1</td>\n",
       "      <td>1.0</td>\n",
       "      <td>14.5</td>\n",
       "      <td>261</td>\n",
       "      <td>2.60</td>\n",
       "      <td>156</td>\n",
       "      <td>1718.0</td>\n",
       "      <td>137.95</td>\n",
       "      <td>172</td>\n",
       "      <td>190</td>\n",
       "      <td>12.2</td>\n",
       "      <td>4</td>\n",
       "    </tr>\n",
       "    <tr>\n",
       "      <th>1</th>\n",
       "      <td>2</td>\n",
       "      <td>4500</td>\n",
       "      <td>0</td>\n",
       "      <td>1</td>\n",
       "      <td>20617</td>\n",
       "      <td>1</td>\n",
       "      <td>0</td>\n",
       "      <td>1</td>\n",
       "      <td>1</td>\n",
       "      <td>0.0</td>\n",
       "      <td>1.1</td>\n",
       "      <td>302</td>\n",
       "      <td>4.14</td>\n",
       "      <td>54</td>\n",
       "      <td>7394.8</td>\n",
       "      <td>113.52</td>\n",
       "      <td>88</td>\n",
       "      <td>221</td>\n",
       "      <td>10.6</td>\n",
       "      <td>3</td>\n",
       "    </tr>\n",
       "    <tr>\n",
       "      <th>2</th>\n",
       "      <td>3</td>\n",
       "      <td>1012</td>\n",
       "      <td>1</td>\n",
       "      <td>1</td>\n",
       "      <td>25594</td>\n",
       "      <td>0</td>\n",
       "      <td>0</td>\n",
       "      <td>0</td>\n",
       "      <td>0</td>\n",
       "      <td>0.5</td>\n",
       "      <td>1.4</td>\n",
       "      <td>176</td>\n",
       "      <td>3.48</td>\n",
       "      <td>210</td>\n",
       "      <td>516.0</td>\n",
       "      <td>96.10</td>\n",
       "      <td>55</td>\n",
       "      <td>151</td>\n",
       "      <td>12.0</td>\n",
       "      <td>4</td>\n",
       "    </tr>\n",
       "    <tr>\n",
       "      <th>3</th>\n",
       "      <td>4</td>\n",
       "      <td>1925</td>\n",
       "      <td>1</td>\n",
       "      <td>1</td>\n",
       "      <td>19994</td>\n",
       "      <td>1</td>\n",
       "      <td>0</td>\n",
       "      <td>1</td>\n",
       "      <td>1</td>\n",
       "      <td>0.5</td>\n",
       "      <td>1.8</td>\n",
       "      <td>244</td>\n",
       "      <td>2.54</td>\n",
       "      <td>64</td>\n",
       "      <td>6121.8</td>\n",
       "      <td>60.63</td>\n",
       "      <td>92</td>\n",
       "      <td>183</td>\n",
       "      <td>10.3</td>\n",
       "      <td>4</td>\n",
       "    </tr>\n",
       "    <tr>\n",
       "      <th>4</th>\n",
       "      <td>5</td>\n",
       "      <td>1504</td>\n",
       "      <td>0</td>\n",
       "      <td>0</td>\n",
       "      <td>13918</td>\n",
       "      <td>1</td>\n",
       "      <td>0</td>\n",
       "      <td>1</td>\n",
       "      <td>1</td>\n",
       "      <td>0.0</td>\n",
       "      <td>3.4</td>\n",
       "      <td>279</td>\n",
       "      <td>3.53</td>\n",
       "      <td>143</td>\n",
       "      <td>671.0</td>\n",
       "      <td>113.15</td>\n",
       "      <td>72</td>\n",
       "      <td>136</td>\n",
       "      <td>10.9</td>\n",
       "      <td>3</td>\n",
       "    </tr>\n",
       "  </tbody>\n",
       "</table>\n",
       "</div>"
      ],
      "text/plain": [
       "   id  futime  status  drug    age  sex ascites hepato spiders  edema  bili  \\\n",
       "0   1     400       1     1  21464    1       1      1       1    1.0  14.5   \n",
       "1   2    4500       0     1  20617    1       0      1       1    0.0   1.1   \n",
       "2   3    1012       1     1  25594    0       0      0       0    0.5   1.4   \n",
       "3   4    1925       1     1  19994    1       0      1       1    0.5   1.8   \n",
       "4   5    1504       0     0  13918    1       0      1       1    0.0   3.4   \n",
       "\n",
       "  chol  albumin copper alk_phos    sgot trig platelet protime stage  \n",
       "0  261     2.60    156   1718.0  137.95  172      190    12.2     4  \n",
       "1  302     4.14     54   7394.8  113.52   88      221    10.6     3  \n",
       "2  176     3.48    210    516.0   96.10   55      151    12.0     4  \n",
       "3  244     2.54     64   6121.8   60.63   92      183    10.3     4  \n",
       "4  279     3.53    143    671.0  113.15   72      136    10.9     3  "
      ]
     },
     "execution_count": 34,
     "metadata": {},
     "output_type": "execute_result"
    }
   ],
   "source": [
    "# Load and prepare data\n",
    "columns = ['id', 'futime', 'status', 'drug', 'age', 'sex', 'ascites', 'hepato', 'spiders',\n",
    "            'edema', 'bili', 'chol', 'albumin', 'copper', 'alk_phos', 'sgot', 'trig', 'platelet',\n",
    "            'protime', 'stage']\n",
    "df_pbc = pd.read_csv('data/pbc.txt', sep=r\"\\s*\", names=columns, engine='python')\n",
    "df_pbc['drug'].replace({'2':'0'}, inplace=True) # set placebo as reference (0)\n",
    "df_pbc = df_pbc[df_pbc['drug'] != '.'] # remove rows with missing data in 'drug' column\n",
    "df_pbc['drug'] = df_pbc['drug'].astype(int)\n",
    "df_pbc['status'].replace({1:0, 2:1}, inplace=True) # recode liver transplant as alive(0), dead as 1\n",
    "df_pbc.head()"
   ]
  },
  {
   "cell_type": "code",
   "execution_count": 35,
   "metadata": {},
   "outputs": [
    {
     "name": "stdout",
     "output_type": "stream",
     "text": [
      "Slope for treatment (ln(hazard ratio)): 0.057\n",
      "Hazard ratio for treatment: 1.06\n"
     ]
    }
   ],
   "source": [
    "from sksurv.linear_model import CoxPHSurvivalAnalysis\n",
    "from sksurv.util import Surv\n",
    "\n",
    "# construct structured array with \"Surv\"\n",
    "# https://scikit-survival.readthedocs.io/en/latest/generated/sksurv.util.Surv.html?highlight=surv\n",
    "data_y = Surv.from_dataframe('status', 'futime', df_pbc)\n",
    "cox = CoxPHSurvivalAnalysis()\n",
    "cox.fit(df_pbc[['drug']], data_y)\n",
    "print('Slope for treatment (ln(hazard ratio)):', round(float(cox.coef_),3))\n",
    "print('Hazard ratio for treatment:', round(float(np.exp(cox.coef_)),2))"
   ]
  },
  {
   "cell_type": "markdown",
   "metadata": {},
   "source": [
    "The results shown above indicate that patients receiving the treatment (D-penicillamine) had a 6% higher chance of experiencing the event (death) as compared to the group receiving the placebo at the same time in the follow-up period. Indeed, as shown in the graph below, the differences between the two survival curves are very small."
   ]
  },
  {
   "cell_type": "code",
   "execution_count": 36,
   "metadata": {},
   "outputs": [
    {
     "data": {
      "image/png": "[encoded data removed]",
      "text/plain": [
       "<Figure size 432x288 with 1 Axes>"
      ]
     },
     "metadata": {
      "needs_background": "light"
     },
     "output_type": "display_data"
    }
   ],
   "source": [
    "from sksurv.nonparametric import kaplan_meier_estimator\n",
    "\n",
    "for group in (0, 1):\n",
    "    mask = df_pbc[\"drug\"] == group\n",
    "    time, surv_prob = kaplan_meier_estimator(\n",
    "        data_y[\"status\"][mask],\n",
    "        data_y[\"futime\"][mask])\n",
    "\n",
    "    plt.step(time, surv_prob, where=\"post\",\n",
    "             label=\"Treatment = {}\".format(group))\n",
    "plt.xlabel(\"Time (days)\")\n",
    "plt.ylabel(\"Survival percentage\");"
   ]
  },
  {
   "cell_type": "markdown",
   "metadata": {},
   "source": [
    "#### Simple Cox Regression with a Continuous Predictor"
   ]
  },
  {
   "cell_type": "code",
   "execution_count": 37,
   "metadata": {},
   "outputs": [
    {
     "data": {
      "image/png": "[encoded data removed]",
      "text/plain": [
       "<Figure size 432x288 with 1 Axes>"
      ]
     },
     "metadata": {
      "needs_background": "light"
     },
     "output_type": "display_data"
    }
   ],
   "source": [
    "plt.boxplot(df_pbc['bili'])\n",
    "plt.ylabel(\"Serum bilirubin levels (mg/dl)\");"
   ]
  },
  {
   "cell_type": "markdown",
   "metadata": {},
   "source": [
    "The estimated hazard ratio of death for two groups of patient with bilirubin levels that differ by 1 mg/dl is calculated below. Note that the intercept, $\\beta_{0}$ is a baseline quantity which establishes the shape of the death risk over time."
   ]
  },
  {
   "cell_type": "code",
   "execution_count": 38,
   "metadata": {},
   "outputs": [
    {
     "name": "stdout",
     "output_type": "stream",
     "text": [
      "ln(hazard ratio for mortality at time t): 0.149\n",
      "Hazard ratio: 1.16\n"
     ]
    }
   ],
   "source": [
    "cox = CoxPHSurvivalAnalysis()\n",
    "cox.fit(df_pbc[['bili']], data_y)\n",
    "print('ln(hazard ratio for mortality at time t):', round(float(cox.coef_),3))\n",
    "print('Hazard ratio:', round(float(np.exp(cox.coef_)),2))"
   ]
  },
  {
   "cell_type": "markdown",
   "metadata": {},
   "source": [
    "**Q: What is the estimated hazard ratio for persons with bilirubin levels of 3.5 mg/dL versus 0.8 mg/dL (at any specific time point in the follow-up period)?**"
   ]
  },
  {
   "cell_type": "code",
   "execution_count": 39,
   "metadata": {},
   "outputs": [
    {
     "name": "stdout",
     "output_type": "stream",
     "text": [
      "1.49\n"
     ]
    }
   ],
   "source": [
    "hr = np.exp(cox.coef_ * (3.5-0.8)) # or np.exp(0.15)**(3.5-0.8)\n",
    "print(round(float(hr),2))"
   ]
  },
  {
   "cell_type": "markdown",
   "metadata": {},
   "source": [
    "The calculated hazard ratio shows that patients with a baseline bilirubin level of 3.5. mg/dL had a 49% higher probability of experiencing the event, death, than those with a baseline bilirubin level of 0.8 mg/dL.  \n",
    "\n",
    "Note that this does not necessarily mean that the relationship is linear. We can subdivide the bilirubin values into quartiles and perform a Cox survival analysis using the nominal ordinal data."
   ]
  },
  {
   "cell_type": "code",
   "execution_count": 40,
   "metadata": {},
   "outputs": [],
   "source": [
    "df_pbc['quartiles'] = pd.qcut(x=df_pbc['bili'], q=4, labels=[0,1,2,3])\n",
    "df = pd.concat([df_pbc, pd.get_dummies(df_pbc['quartiles'], prefix='q', drop_first=True)], axis=1)"
   ]
  },
  {
   "cell_type": "code",
   "execution_count": 41,
   "metadata": {},
   "outputs": [
    {
     "name": "stdout",
     "output_type": "stream",
     "text": [
      "Coefficients: [0.38566377 1.49876648 2.61183509]\n"
     ]
    }
   ],
   "source": [
    "cox = CoxPHSurvivalAnalysis()\n",
    "cox.fit(df[['q_1', 'q_2', 'q_3']], data_y)\n",
    "print(\"Coefficients:\", cox.coef_)"
   ]
  },
  {
   "cell_type": "markdown",
   "metadata": {},
   "source": [
    "From the results it appears that, as bilirubin increases, the ln(hazard) increases as well, first by 0.4 and followed by 1.1 (1.5 - 0.4) and 0.9 (2.6 - 1.5) across the levels."
   ]
  },
  {
   "cell_type": "markdown",
   "metadata": {},
   "source": [
    "#### Simple Cox Regression: Accounting for Uncertainty in the Estimates\n",
    "\n",
    "Given a slope ($\\beta_{1}$) and an associated standard error (SE), the confidence intervals for the slope and the associated hazard ratio (HR) can be calculated as follows:"
   ]
  },
  {
   "cell_type": "code",
   "execution_count": 42,
   "metadata": {},
   "outputs": [
    {
     "name": "stdout",
     "output_type": "stream",
     "text": [
      "CI (95%) for slope: (-0.303, 0.417)\n",
      "CI (95%) for hr: [0.7385991  1.51740251]\n",
      "CI (95%) for slope: (0.124, 0.176)\n",
      "CI (95%) for hr: [1.13201587 1.19243806]\n"
     ]
    }
   ],
   "source": [
    "def ci_cox(slope, se):\n",
    "    \"\"\"\n",
    "    Returns the 95% confidence intervals for the slope and the\n",
    "    associated hazard ration\n",
    "    \"\"\"\n",
    "    ci_95_slope = (slope - 2*se, slope + 2*se)\n",
    "    ci_95_hr = np.exp(ci_95_slope)\n",
    "    return ci_95_slope, ci_95_hr\n",
    "    \n",
    "ci_slope, ci_hr = ci_cox(0.057, 0.18)\n",
    "print(\"CI (95%) for slope:\", ci_slope)\n",
    "print(\"CI (95%) for hr:\", ci_hr)\n",
    "\n",
    "ci_slope, ci_hr = ci_cox(0.15, 0.013)\n",
    "print(\"CI (95%) for slope:\", ci_slope)\n",
    "print(\"CI (95%) for hr:\", ci_hr)"
   ]
  },
  {
   "cell_type": "markdown",
   "metadata": {},
   "source": [
    "#### Estimating Survival Curves from Cox Regression Results  \n",
    "\n",
    "The results from any Cox regression model can be translated into estimated survival curves for groups with different x values."
   ]
  },
  {
   "cell_type": "code",
   "execution_count": 43,
   "metadata": {},
   "outputs": [
    {
     "data": {
      "image/png": "[encoded data removed]",
      "text/plain": [
       "<Figure size 432x288 with 1 Axes>"
      ]
     },
     "metadata": {
      "needs_background": "light"
     },
     "output_type": "display_data"
    }
   ],
   "source": [
    "cox = CoxPHSurvivalAnalysis()\n",
    "cox.fit(df_pbc[['drug']], data_y)\n",
    "pred_curves = cox.predict_survival_function(df_pbc[['drug']])\n",
    "for curve in pred_curves:\n",
    "    plt.step(curve.x, curve.y, where=\"post\")"
   ]
  },
  {
   "cell_type": "markdown",
   "metadata": {},
   "source": [
    "### 4. Confounding and Adjustment  \n",
    "\n",
    "A confounder (also confounding variable, confounding factor, or lurking variable) is a variable that influences both the dependent variable and independent variable, causing a spurious association.  \n",
    "There are three conditions that must be present for confounding to occur:  \n",
    "- The confounding factor must be associated with both the risk factor of interest and the outcome. \n",
    "- The confounding factor must be distributed unequally among the groups being compared.  \n",
    "- A confounder cannot be an intermediary step in the causal pathway from the exposure of interest to the outcome of interest."
   ]
  },
  {
   "cell_type": "code",
   "execution_count": 44,
   "metadata": {},
   "outputs": [],
   "source": [
    "df_conf = pd.DataFrame(columns = ['sex', 'disease', 'smoking'])"
   ]
  },
  {
   "cell_type": "code",
   "execution_count": 45,
   "metadata": {},
   "outputs": [
    {
     "data": {
      "text/html": [
       "<div>\n",
       "<style scoped>\n",
       "    .dataframe tbody tr th:only-of-type {\n",
       "        vertical-align: middle;\n",
       "    }\n",
       "\n",
       "    .dataframe tbody tr th {\n",
       "        vertical-align: top;\n",
       "    }\n",
       "\n",
       "    .dataframe thead th {\n",
       "        text-align: right;\n",
       "    }\n",
       "</style>\n",
       "<table border=\"1\" class=\"dataframe\">\n",
       "  <thead>\n",
       "    <tr style=\"text-align: right;\">\n",
       "      <th></th>\n",
       "      <th>sex</th>\n",
       "      <th>disease</th>\n",
       "      <th>smoking</th>\n",
       "    </tr>\n",
       "  </thead>\n",
       "  <tbody>\n",
       "    <tr>\n",
       "      <th>384</th>\n",
       "      <td>1</td>\n",
       "      <td>0</td>\n",
       "      <td>0</td>\n",
       "    </tr>\n",
       "    <tr>\n",
       "      <th>370</th>\n",
       "      <td>1</td>\n",
       "      <td>0</td>\n",
       "      <td>0</td>\n",
       "    </tr>\n",
       "    <tr>\n",
       "      <th>345</th>\n",
       "      <td>1</td>\n",
       "      <td>0</td>\n",
       "      <td>0</td>\n",
       "    </tr>\n",
       "    <tr>\n",
       "      <th>444</th>\n",
       "      <td>1</td>\n",
       "      <td>0</td>\n",
       "      <td>0</td>\n",
       "    </tr>\n",
       "    <tr>\n",
       "      <th>114</th>\n",
       "      <td>0</td>\n",
       "      <td>0</td>\n",
       "      <td>1</td>\n",
       "    </tr>\n",
       "  </tbody>\n",
       "</table>\n",
       "</div>"
      ],
      "text/plain": [
       "     sex  disease  smoking\n",
       "384    1        0        0\n",
       "370    1        0        0\n",
       "345    1        0        0\n",
       "444    1        0        0\n",
       "114    0        0        1"
      ]
     },
     "execution_count": 45,
     "metadata": {},
     "output_type": "execute_result"
    }
   ],
   "source": [
    "df_conf['sex'] = [0]*200 + [1]*250 # male:0, female:1\n",
    "df_conf['disease'] = [1]*33 + [0]*167 + [1]*83 + [0]*167 # disease:1, no disease:0\n",
    "df_conf['smoking'] = [1]* 29 + [0]*4 + [1]*131 + [0]*36 + \\\n",
    "                     [1]*23 + [0]*60 + [1]*27 + [0]*140\n",
    "df_conf = df_conf.sample(frac=1.)\n",
    "df_conf.head()"
   ]
  },
  {
   "cell_type": "code",
   "execution_count": 46,
   "metadata": {},
   "outputs": [
    {
     "name": "stdout",
     "output_type": "stream",
     "text": [
      "Relative risk: 0.93\n"
     ]
    }
   ],
   "source": [
    "# Calculate relative risk of having disease based on smoking status\n",
    "def rr(df, predictor='smoking', outcome='disease'):\n",
    "    smoke_disease = df[(df[outcome] == 1) & (df[predictor] == 1)]\n",
    "    smoke_no_disease = df[(df[outcome] == 1) & (df[predictor] == 0)]\n",
    "\n",
    "    n_smokers = df[df[predictor] == 1]\n",
    "    n_no_smokers = df[df[predictor] == 0]\n",
    "\n",
    "    rr = (len(smoke_disease)/len(n_smokers)) / (len(smoke_no_disease)/len(n_no_smokers))\n",
    "    \n",
    "    print(\"Relative risk:\", round(rr,2))\n",
    "\n",
    "rr(df_conf)"
   ]
  },
  {
   "cell_type": "code",
   "execution_count": 47,
   "metadata": {},
   "outputs": [
    {
     "name": "stdout",
     "output_type": "stream",
     "text": [
      "Relative risk for counfounder 1: 1.53\n",
      "Relative risk for counfounder 0: 1.81\n"
     ]
    }
   ],
   "source": [
    "# Calculate relative risk of having disease based on smoking status\n",
    "def rr_conf(df, predictor='smoking', confounder='sex', outcome='disease'):\n",
    "    \n",
    "    for elem in df[confounder].unique():\n",
    "        smoke_disease = df[(df[outcome] == 1) & (df[predictor] == 1) & (df[confounder] == elem)]\n",
    "        smoke_no_disease = df[(df[outcome] == 1) & (df[predictor] == 0) & (df[confounder] == elem)]\n",
    "\n",
    "        n_smokers = df[(df[predictor] == 1) & (df[confounder] == elem)]\n",
    "        n_no_smokers = df[(df[predictor] == 0) & (df[confounder] == elem)]\n",
    "\n",
    "        rr = (len(smoke_disease)/len(n_smokers)) / (len(smoke_no_disease)/len(n_no_smokers))\n",
    "    \n",
    "        print(\"Relative risk for counfounder \" + str(elem) + \":\", round(rr,2))\n",
    "\n",
    "rr_conf(df_conf)"
   ]
  },
  {
   "cell_type": "markdown",
   "metadata": {},
   "source": [
    "As shown above, the relative risk of disease based on smoking status is confounded by sex. Males more likely to be smokers, and females more likely to have disease. Thus, the nature of an association can change (and even reverse direction) or disappear when data from several groups are combined to form a single group."
   ]
  },
  {
   "cell_type": "markdown",
   "metadata": {},
   "source": [
    "### 5. Effect modification  \n",
    "Effect modification can be present when a variable differentially (positively and negatively) modifies the observed effect of a risk factor on disease status. Different groups have different risk estimates when effect modification is present."
   ]
  },
  {
   "cell_type": "code",
   "execution_count": 48,
   "metadata": {},
   "outputs": [
    {
     "name": "stdout",
     "output_type": "stream",
     "text": [
      "Relative risk: 1.06\n"
     ]
    }
   ],
   "source": [
    "rr(df_pbc, predictor='drug', outcome='status') # Crude, unadjusted, incidence rate ratio"
   ]
  },
  {
   "cell_type": "code",
   "execution_count": 49,
   "metadata": {},
   "outputs": [
    {
     "data": {
      "text/plain": [
       "1.0288461538461537"
      ]
     },
     "execution_count": 49,
     "metadata": {},
     "output_type": "execute_result"
    }
   ],
   "source": [
    "n_males = len(df_pbc[df_pbc['sex']==0])\n",
    "n_females = len(df_pbc[df_pbc['sex']==1])\n",
    "(n_males*1.25 + n_females*1.0) / (n_males+n_females) # Sex-adjusted incidence rate ratio"
   ]
  },
  {
   "cell_type": "code",
   "execution_count": 50,
   "metadata": {},
   "outputs": [
    {
     "name": "stdout",
     "output_type": "stream",
     "text": [
      "Relative risk for counfounder 1: 1.0\n",
      "Relative risk for counfounder 0: 1.25\n"
     ]
    }
   ],
   "source": [
    "rr_conf(df_pbc, predictor='drug', confounder='sex', outcome='status') # Sex-specific (stratified) estimates"
   ]
  },
  {
   "cell_type": "code",
   "execution_count": null,
   "metadata": {},
   "outputs": [],
   "source": []
  }
 ],
 "metadata": {
  "kernelspec": {
   "display_name": "Python 3",
   "language": "python",
   "name": "python3"
  },
  "language_info": {
   "codemirror_mode": {
    "name": "ipython",
    "version": 3
   },
   "file_extension": ".py",
   "mimetype": "text/x-python",
   "name": "python",
   "nbconvert_exporter": "python",
   "pygments_lexer": "ipython3",
   "version": "3.6.5"
  }
 },
 "nbformat": 4,
 "nbformat_minor": 4
}
